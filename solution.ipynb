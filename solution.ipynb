{
 "cells": [
  {
   "cell_type": "code",
   "execution_count": 1,
   "metadata": {},
   "outputs": [
    {
     "name": "stderr",
     "output_type": "stream",
     "text": [
      "<ipython-input-1-87c762a3288b>:14: TqdmDeprecationWarning: This function will be removed in tqdm==5.0.0\n",
      "Please use `tqdm.notebook.*` instead of `tqdm._tqdm_notebook.*`\n",
      "  from tqdm._tqdm_notebook import tqdm_notebook\n"
     ]
    }
   ],
   "source": [
    "import time\n",
    "start_time = time.time()\n",
    "import pandas as pd\n",
    "#import dask.dataframe as pd\n",
    "import numpy as np\n",
    "import xgboost as xgb\n",
    "import re\n",
    "import matplotlib.pyplot as plt\n",
    "from datetime import datetime as dt\n",
    "from datetime import timedelta as td\n",
    "\n",
    "import seaborn as sns\n",
    "\n",
    "from tqdm._tqdm_notebook import tqdm_notebook\n",
    "from warnings import filterwarnings\n",
    "\n",
    "from sklearn.preprocessing import StandardScaler\n",
    "from sklearn.model_selection import train_test_split\n",
    "from sklearn.metrics import confusion_matrix\n",
    "\n",
    "#from keras import Sequential\n",
    "#from keras.layers import Dense\n",
    "m = \"test\"\n",
    "\n",
    "%matplotlib inline\n",
    "filterwarnings('ignore')\n",
    "\n",
    "tqdm_notebook.pandas(desc=\"Progress:\")"
   ]
  },
  {
   "cell_type": "code",
   "execution_count": 2,
   "metadata": {},
   "outputs": [],
   "source": [
    "# Считываем данные\n",
    "tr_mcc_codes = pd.read_csv('../data/tr_mcc_codes.csv', sep=';', index_col='mcc_code')\n",
    "tr_types = pd.read_csv('../data/tr_types.csv', sep=';', index_col='tr_type')\n",
    "\n",
    "transactions = pd.read_csv('../data/transactions.csv', index_col='customer_id')\n",
    "gender_train = pd.read_csv('../data/gender_train.csv', index_col='customer_id')\n",
    "gender_test = pd.read_csv('../data/gender_test.csv', index_col='customer_id')\n",
    "transactions_train = transactions.join(gender_train, how='inner')\n",
    "transactions_test = transactions.join(gender_test, how='inner')\n",
    "\n",
    "del transactions"
   ]
  },
  {
   "cell_type": "code",
   "execution_count": 3,
   "metadata": {},
   "outputs": [],
   "source": [
    "# Функции, которыми можно пользоваться для построения классификатора, \n",
    "# оценки его результатов и построение прогноза для тестовой части пользователей\n",
    "\n",
    "# Cross-validation score (среднее значение метрики ROC AUC на тренировочных данных)\n",
    "def cv_score(params, train, y_true):\n",
    "    cv_res=xgb.cv(params, xgb.DMatrix(train, y_true, silent = True),\n",
    "                  early_stopping_rounds=10, maximize=True, \n",
    "                  num_boost_round=(10000), nfold=5, stratified=True)\n",
    "    index_argmax = cv_res['test-auc-mean'].argmax()\n",
    "    #print('Cross-validation, ROC AUC: {:.3f}+-{:.3f}, Trees: {}'.format(cv_res.loc[index_argmax]['test-auc-mean'],\n",
    "    #                                                                    cv_res.loc[index_argmax]['test-auc-std'],\n",
    "    #                                                                    index_argmax))\n",
    "    return round(cv_res.loc[index_argmax]['test-auc-mean'], 4)\n",
    "\n",
    "# Построение модели + возврат результатов классификации тестовых пользователей\n",
    "def fit_predict(params, num_trees, train, test, target):\n",
    "    params['learning_rate'] = params['eta']\n",
    "    clf = xgb.train(params, xgb.DMatrix(train.values, target, feature_names=list(train.columns)), \n",
    "                    num_boost_round=num_trees, maximize=True)\n",
    "    y_pred = clf.predict(xgb.DMatrix(test.values, feature_names=list(train.columns)))\n",
    "    submission = pd.DataFrame(index=test.index, data=y_pred, columns=['probability'])\n",
    "    return clf, submission\n",
    "\n",
    "# Отрисовка важности переменных. Важность переменной - количество разбиений выборки, \n",
    "# в которых участвует данная переменная. Чем больше - тем она, вероятно, лучше \n",
    "def draw_feature_importances(clf, top_k=10):\n",
    "    plt.figure(figsize=(10, 10))\n",
    "    \n",
    "    importances = dict(sorted(clf.get_score().items(), key=lambda x: x[1])[-top_k:])\n",
    "    y_pos = np.arange(len(importances))\n",
    "    \n",
    "    plt.barh(y_pos, list(importances.values()), align='center', color='green')\n",
    "    plt.yticks(y_pos, importances.keys(), fontsize=12)\n",
    "    plt.xticks(fontsize=12)\n",
    "    plt.xlabel('Feature importance', fontsize=15)\n",
    "    plt.title('Features importances, Sberbank Gender Prediction', fontsize=18)\n",
    "    plt.ylim(-0.5, len(importances) - 0.5)\n",
    "    plt.show()"
   ]
  },
  {
   "cell_type": "code",
   "execution_count": 4,
   "metadata": {},
   "outputs": [],
   "source": [
    "transactions_test[\"ind_day\"] = transactions_test.tr_datetime.apply(lambda x: int(x.split()[0]))\n",
    "transactions_train[\"ind_day\"] = transactions_train.tr_datetime.apply(lambda x: int(x.split()[0]))\n",
    "transactions_test[\"real_amount\"] = transactions_test.amount.apply(lambda x: int(x) / (np.pi ** np.e))\n",
    "transactions_train[\"real_amount\"] = transactions_train.amount.apply(lambda x: int(x) / (np.pi ** np.e))\n",
    "transactions_test[\"real_date\"] = transactions_test.ind_day.apply(lambda x: dt(2018,1,1) + td(days=(int(x)-153)))\n",
    "transactions_train[\"real_date\"] = transactions_train.ind_day.apply(lambda x: dt(2018,1,1) + td(days=(int(x)-153)))\n",
    "transactions_test[\"hour\"] = transactions_test.tr_datetime.apply(lambda x: int(x.split()[1].split(\":\")[0]))\n",
    "transactions_train[\"hour\"] = transactions_train.tr_datetime.apply(lambda x: int(x.split()[1].split(\":\")[0]))\n",
    "\n",
    "for df in [transactions_train, transactions_test]:\n",
    "    df['day'] = df['tr_datetime'].str.split().apply(lambda x: int(x[0]) % 7)\n",
    "    df['hour'] = df['tr_datetime'].apply(lambda x: re.search(' \\d*', x).group(0)).astype(int)\n",
    "    df['night'] = ~df['hour'].between(6, 22).astype(int)"
   ]
  },
  {
   "cell_type": "markdown",
   "metadata": {},
   "source": [
    "<div style=\"background:#f00;color:#fff;padding:10px;text-align:center\"><h2>Создание фичей</h2></div>"
   ]
  },
  {
   "cell_type": "code",
   "execution_count": 5,
   "metadata": {},
   "outputs": [
    {
     "data": {
      "application/vnd.jupyter.widget-view+json": {
       "model_id": "543b96bea8ed4903b8481ca5f49b071f",
       "version_major": 2,
       "version_minor": 0
      },
      "text/plain": [
       "HBox(children=(FloatProgress(value=0.0, description='Progress:', max=8400.0, style=ProgressStyle(description_w…"
      ]
     },
     "metadata": {},
     "output_type": "display_data"
    },
    {
     "name": "stdout",
     "output_type": "stream",
     "text": [
      "\n"
     ]
    },
    {
     "data": {
      "application/vnd.jupyter.widget-view+json": {
       "model_id": "a9102862566647e2853c8dd5cce866c3",
       "version_major": 2,
       "version_minor": 0
      },
      "text/plain": [
       "HBox(children=(FloatProgress(value=0.0, description='Progress:', max=3600.0, style=ProgressStyle(description_w…"
      ]
     },
     "metadata": {},
     "output_type": "display_data"
    },
    {
     "name": "stdout",
     "output_type": "stream",
     "text": [
      "\n"
     ]
    }
   ],
   "source": [
    "def my_features(x): \n",
    "    features = []\n",
    "\n",
    "    features.append(pd.Series(data=x[(x['amount'] < 0)]['amount'].agg(['mean'])\\\n",
    "                              .add_prefix('amount_')))       \n",
    "    \n",
    "    return pd.concat(features)\n",
    "\n",
    "data_train = transactions_train.groupby(transactions_train.index)\\\n",
    "                               .progress_apply(my_features).unstack(-1)\n",
    "data_test = transactions_test.groupby(transactions_test.index)\\\n",
    "                             .progress_apply(my_features).unstack(-1)"
   ]
  },
  {
   "cell_type": "code",
   "execution_count": 6,
   "metadata": {},
   "outputs": [],
   "source": [
    "data_train = data_train.unstack().T\n",
    "data_test = data_test.unstack().T"
   ]
  },
  {
   "cell_type": "markdown",
   "metadata": {},
   "source": [
    "<div style=\"background:#fc0\">Праздники</div>"
   ]
  },
  {
   "cell_type": "code",
   "execution_count": 7,
   "metadata": {},
   "outputs": [
    {
     "data": {
      "application/vnd.jupyter.widget-view+json": {
       "model_id": "dfae45e121b24dd192ce1749561bd809",
       "version_major": 2,
       "version_minor": 0
      },
      "text/plain": [
       "HBox(children=(FloatProgress(value=0.0, description='Progress:', max=8400.0, style=ProgressStyle(description_w…"
      ]
     },
     "metadata": {},
     "output_type": "display_data"
    },
    {
     "name": "stdout",
     "output_type": "stream",
     "text": [
      "\n"
     ]
    },
    {
     "data": {
      "application/vnd.jupyter.widget-view+json": {
       "model_id": "955b95691a92470a931f89abe9f66507",
       "version_major": 2,
       "version_minor": 0
      },
      "text/plain": [
       "HBox(children=(FloatProgress(value=0.0, description='Progress:', max=3600.0, style=ProgressStyle(description_w…"
      ]
     },
     "metadata": {},
     "output_type": "display_data"
    },
    {
     "name": "stdout",
     "output_type": "stream",
     "text": [
      "\n"
     ]
    }
   ],
   "source": [
    "def my_features(x): \n",
    "    features = []\n",
    "\n",
    "    features.append(pd.Series(data=x[(x['amount']<0) & (x['mcc_code']==5992) & \n",
    "                              (x['real_date'] <= dt(2018,3,8)) & (x['real_date'] >= dt(2018,3,6))]['amount']\\\n",
    "                              .agg(['sum']).add_prefix('5992_')))  \n",
    "\n",
    "    features.append(pd.Series(data=x[(x['amount']<0) & (x['mcc_code']==5944) & \n",
    "                              (x['real_date'] <= dt(2018,3,8)) & (x['real_date'] >= dt(2018,3,6))]['amount']\\\n",
    "                              .agg(['sum']).add_prefix('5944_'))) \n",
    "\n",
    "    features.append(pd.Series(data=x[(x['amount']<0) & (x['mcc_code']==5611) & \n",
    "                              (x['real_date'] <= dt(2018,2,23)) & (x['real_date'] >= dt(2018,2,18))]['amount']\\\n",
    "                              .agg(['sum']).add_prefix('5611_')))  \n",
    "\n",
    "    features.append(pd.Series(data=x[(x['amount']<0) & (x['mcc_code']==5947) & \n",
    "                              (x['real_date'] <= dt(2018,2,23)) & (x['real_date'] >= dt(2018,2,18))]['amount']\\\n",
    "                              .agg(['sum']).add_prefix('5947_')))      \n",
    "    \n",
    "    return pd.concat(features)\n",
    "\n",
    "\n",
    "new_train = transactions_train.groupby(transactions_train.index)\\\n",
    "                               .progress_apply(my_features).unstack(-1)\n",
    "new_test = transactions_test.groupby(transactions_test.index)\\\n",
    "                             .progress_apply(my_features).unstack(-1)\n",
    "data_train = pd.merge(data_train, new_train.unstack().T, left_index=True, right_index=True)\n",
    "data_test = pd.merge(data_test, new_test.unstack().T, left_index=True, right_index=True)\n"
   ]
  },
  {
   "cell_type": "markdown",
   "metadata": {},
   "source": [
    "<div style=\"background:#fc0\">TOP20 tr_type</div>"
   ]
  },
  {
   "cell_type": "code",
   "execution_count": 8,
   "metadata": {
    "scrolled": true
   },
   "outputs": [
    {
     "data": {
      "application/vnd.jupyter.widget-view+json": {
       "model_id": "bea20923426740cc8dbbe6198dd44ec9",
       "version_major": 2,
       "version_minor": 0
      },
      "text/plain": [
       "HBox(children=(FloatProgress(value=0.0, description='Progress:', max=8400.0, style=ProgressStyle(description_w…"
      ]
     },
     "metadata": {},
     "output_type": "display_data"
    },
    {
     "name": "stdout",
     "output_type": "stream",
     "text": [
      "\n"
     ]
    },
    {
     "data": {
      "application/vnd.jupyter.widget-view+json": {
       "model_id": "27bc2427d5df4628971d451fa6b6f43a",
       "version_major": 2,
       "version_minor": 0
      },
      "text/plain": [
       "HBox(children=(FloatProgress(value=0.0, description='Progress:', max=3600.0, style=ProgressStyle(description_w…"
      ]
     },
     "metadata": {},
     "output_type": "display_data"
    },
    {
     "name": "stdout",
     "output_type": "stream",
     "text": [
      "\n"
     ]
    }
   ],
   "source": [
    "def my_features(x): \n",
    "    features = []\n",
    "    \n",
    "    tr_types = [6210, 8100, 7075, 1310, 7034, 1410, 6200, 7014, 7074, 6010, 4041,\n",
    "            2460, 7040, 4210, 2320, 4020, 6100, 7030, 2440, 7071]\n",
    "    features.append(pd.Series(data=map(lambda y: x[x.tr_type == y]['amount'].count(), tr_types),\n",
    "                              index=tr_types).add_prefix('tr_type_20_'))\n",
    "    \n",
    "    return pd.concat(features)\n",
    "\n",
    "new_train = transactions_train.groupby(transactions_train.index)\\\n",
    "                               .progress_apply(my_features).unstack(-1)\n",
    "new_test = transactions_test.groupby(transactions_test.index)\\\n",
    "                             .progress_apply(my_features).unstack(-1)\n",
    "data_train = pd.merge(data_train, new_train.unstack().T, left_index=True, right_index=True)\n",
    "data_test = pd.merge(data_test, new_test.unstack().T, left_index=True, right_index=True)"
   ]
  },
  {
   "cell_type": "markdown",
   "metadata": {},
   "source": [
    "<div style=\"background:#fc0\">TOP mcc_code</div>"
   ]
  },
  {
   "cell_type": "code",
   "execution_count": 9,
   "metadata": {},
   "outputs": [
    {
     "data": {
      "application/vnd.jupyter.widget-view+json": {
       "model_id": "47efc0a7bd604561af2f6b9fcdfd3e1e",
       "version_major": 2,
       "version_minor": 0
      },
      "text/plain": [
       "HBox(children=(FloatProgress(value=0.0, description='Progress:', max=8400.0, style=ProgressStyle(description_w…"
      ]
     },
     "metadata": {},
     "output_type": "display_data"
    },
    {
     "name": "stdout",
     "output_type": "stream",
     "text": [
      "\n"
     ]
    },
    {
     "data": {
      "application/vnd.jupyter.widget-view+json": {
       "model_id": "22898d45f87e467f97e25024f88cfc8f",
       "version_major": 2,
       "version_minor": 0
      },
      "text/plain": [
       "HBox(children=(FloatProgress(value=0.0, description='Progress:', max=3600.0, style=ProgressStyle(description_w…"
      ]
     },
     "metadata": {},
     "output_type": "display_data"
    },
    {
     "name": "stdout",
     "output_type": "stream",
     "text": [
      "\n"
     ]
    }
   ],
   "source": [
    "def my_features(x): \n",
    "    features = []\n",
    "    \n",
    "    mcc_codes = [5967, 5965, 6211, 5931, 7995, 7994, 4784, 7512, 7993, 5940, 3501,\n",
    "            5621, 5949, 5532, 5013, 5533, 5631, 7538, 5714, 5977, 6051, 5511,\n",
    "             742, 7542, 5733, 7372, 4214, 7933, 5816, 5541, 5045, 5651, 5065,\n",
    "            7011, 5734, 5699, 5462, 7278, 5661, 8398, 5691, 5964]\n",
    "    features.append(pd.Series(data=map(lambda y: x[x.mcc_code == y]['amount'].count(), mcc_codes),\n",
    "                              index=mcc_codes).add_prefix('mcc_code_'))\n",
    "    \n",
    "    return pd.concat(features)\n",
    "\n",
    "new_train = transactions_train.groupby(transactions_train.index)\\\n",
    "                               .progress_apply(my_features).unstack(-1)\n",
    "new_test = transactions_test.groupby(transactions_test.index)\\\n",
    "                             .progress_apply(my_features).unstack(-1)\n",
    "data_train = pd.merge(data_train, new_train.unstack().T, left_index=True, right_index=True)\n",
    "data_test = pd.merge(data_test, new_test.unstack().T, left_index=True, right_index=True)"
   ]
  },
  {
   "cell_type": "markdown",
   "metadata": {},
   "source": [
    "<div style=\"background:#fc0\">Default</div>"
   ]
  },
  {
   "cell_type": "code",
   "execution_count": 10,
   "metadata": {},
   "outputs": [
    {
     "data": {
      "application/vnd.jupyter.widget-view+json": {
       "model_id": "f405764d4525449fbee2188c70934bab",
       "version_major": 2,
       "version_minor": 0
      },
      "text/plain": [
       "HBox(children=(FloatProgress(value=0.0, description='Progress:', max=8400.0, style=ProgressStyle(description_w…"
      ]
     },
     "metadata": {},
     "output_type": "display_data"
    },
    {
     "name": "stdout",
     "output_type": "stream",
     "text": [
      "\n"
     ]
    },
    {
     "data": {
      "application/vnd.jupyter.widget-view+json": {
       "model_id": "e99bc118aa1d4557b714b00930688be8",
       "version_major": 2,
       "version_minor": 0
      },
      "text/plain": [
       "HBox(children=(FloatProgress(value=0.0, description='Progress:', max=3600.0, style=ProgressStyle(description_w…"
      ]
     },
     "metadata": {},
     "output_type": "display_data"
    },
    {
     "name": "stdout",
     "output_type": "stream",
     "text": [
      "\n"
     ]
    }
   ],
   "source": [
    "def my_features(x): \n",
    "    features = []\n",
    "    \n",
    "    features.append(pd.Series(x['day'].value_counts(normalize=True).add_prefix('day_')))\n",
    "    features.append(pd.Series(x['hour'].value_counts(normalize=True).add_prefix('hour_')))\n",
    "    features.append(pd.Series(x['night'].value_counts(normalize=True).add_prefix('night_')))\n",
    "    features.append(pd.Series(x[x['amount']>0]['amount'].agg(['min', 'max', 'mean', 'median', 'std', 'count'])\\\n",
    "                                                        .add_prefix('positive_transactions_')))\n",
    "    features.append(pd.Series(x[x['amount']<0]['amount'].agg(['min', 'max', 'mean', 'median', 'std', 'count'])\\\n",
    "                                                        .add_prefix('negative_transactions_')))\n",
    "    \n",
    "    return pd.concat(features)\n",
    "\n",
    "new_train = transactions_train.groupby(transactions_train.index)\\\n",
    "                               .progress_apply(my_features).unstack(-1)\n",
    "new_test = transactions_test.groupby(transactions_test.index)\\\n",
    "                             .progress_apply(my_features).unstack(-1)\n",
    "\n",
    "data_train = pd.merge(data_train, new_train, left_index=True, right_index=True)\n",
    "data_test = pd.merge(data_test, new_test, left_index=True, right_index=True)\n",
    "    "
   ]
  },
  {
   "cell_type": "markdown",
   "metadata": {},
   "source": [
    "<div style=\"background:#fc0\">mcc codes stat</div>"
   ]
  },
  {
   "cell_type": "code",
   "execution_count": 11,
   "metadata": {},
   "outputs": [
    {
     "data": {
      "application/vnd.jupyter.widget-view+json": {
       "model_id": "0919d4eedcaa489086bf962e4c6149fc",
       "version_major": 2,
       "version_minor": 0
      },
      "text/plain": [
       "HBox(children=(FloatProgress(value=0.0, description='Progress:', max=8400.0, style=ProgressStyle(description_w…"
      ]
     },
     "metadata": {},
     "output_type": "display_data"
    },
    {
     "name": "stdout",
     "output_type": "stream",
     "text": [
      "\n"
     ]
    },
    {
     "data": {
      "application/vnd.jupyter.widget-view+json": {
       "model_id": "6bd047ef5214401396fb5bbb00a971f9",
       "version_major": 2,
       "version_minor": 0
      },
      "text/plain": [
       "HBox(children=(FloatProgress(value=0.0, description='Progress:', max=3600.0, style=ProgressStyle(description_w…"
      ]
     },
     "metadata": {},
     "output_type": "display_data"
    },
    {
     "name": "stdout",
     "output_type": "stream",
     "text": [
      "\n"
     ]
    }
   ],
   "source": [
    "def my_features(x): \n",
    "    features = []\n",
    "    \n",
    "    mcc = {\n",
    "        'min': [4814, 6010, 5977, 5812, 5200, 5945, 4900, 5211, 5411, 5814, 5735, 5541, 5311, 5641, 4829, 5499],\n",
    "        'std': [5814, 5311, 5735, 5541, 5641, 4829, 5211],\n",
    "        'count': [5977, 5691, 5661, 4112, 5912, 4814, 6010, 5541, 5211, 5921],\n",
    "        'sum': [5541, 5921, 5812, 5735, 6011, 6010, 4829, 5814, 5977, 5661, 5912],\n",
    "        'median': [8999, 4829, 4112, 5211],\n",
    "     }\n",
    "    \n",
    "    for i in mcc:\n",
    "        for n in mcc[i]:\n",
    "            features.append(pd.Series(data=x[(x['amount']<0) & (x['mcc_code']==n)]['amount'].agg([i])\\\n",
    "                                      .add_prefix(str(n)+'_')))\n",
    "    \n",
    "    return pd.concat(features)\n",
    "\n",
    "new_train = transactions_train.groupby(transactions_train.index)\\\n",
    "                               .progress_apply(my_features).unstack(-1)\n",
    "new_test = transactions_test.groupby(transactions_test.index)\\\n",
    "                             .progress_apply(my_features).unstack(-1)\n",
    "data_train = pd.merge(data_train, new_train.unstack().T, left_index=True, right_index=True)\n",
    "data_test = pd.merge(data_test, new_test.unstack().T, left_index=True, right_index=True)"
   ]
  },
  {
   "cell_type": "markdown",
   "metadata": {},
   "source": [
    "<div style=\"background:#f00;color:#fff;padding:10px;text-align:center\"><h2>Подготовка данных</h2></div>"
   ]
  },
  {
   "cell_type": "code",
   "execution_count": 12,
   "metadata": {},
   "outputs": [],
   "source": [
    "data_train_g = data_train.join(gender_train, how='inner')"
   ]
  },
  {
   "cell_type": "code",
   "execution_count": 13,
   "metadata": {},
   "outputs": [],
   "source": [
    "features = list(data_train_g.columns)\n",
    "\n",
    "#features = features[5:]\n",
    "\n",
    "my_data_train_g = data_train_g[features[:]]\n",
    "my_data_train = data_train[features[:-1]]\n",
    "my_data_test = data_test[features[:-1]]\n",
    "\n",
    "#for i in features[:-1]:\n",
    "#    my_data_train_g[i] = my_data_train_g[i].map(lambda x: 1 if x > 0 else 0)\n",
    "#    my_data_train[i] = my_data_train[i].map(lambda x: 1 if x > 0 else 0)\n",
    "#    my_data_test[i] = my_data_test[i].map(lambda x: 1 if x > 0 else 0)\n",
    "    "
   ]
  },
  {
   "cell_type": "code",
   "execution_count": 14,
   "metadata": {},
   "outputs": [],
   "source": [
    "my_data_train_g.to_csv(\"my_data_train_g.csv\")\n",
    "my_data_train.to_csv(\"my_data_train.csv\")\n",
    "my_data_test.to_csv(\"my_data_test.csv\")"
   ]
  },
  {
   "cell_type": "code",
   "execution_count": 15,
   "metadata": {},
   "outputs": [],
   "source": [
    "my_data_train_g = pd.read_csv(\"my_data_train_g.csv\")\n",
    "my_data_train = pd.read_csv(\"my_data_train.csv\")\n",
    "my_data_test = pd.read_csv(\"my_data_test.csv\")"
   ]
  },
  {
   "cell_type": "code",
   "execution_count": 16,
   "metadata": {},
   "outputs": [],
   "source": [
    "Y = list(my_data_train_g.iloc[:, len(features)-1])\n",
    "sc = StandardScaler()\n",
    "X = sc.fit_transform(my_data_train.fillna(0))\n",
    "\n",
    "\n",
    "#X, X_test, Y, y_test = train_test_split(X, Y, test_size=0.3)"
   ]
  },
  {
   "cell_type": "markdown",
   "metadata": {},
   "source": [
    "<div style=\"background:#f00;color:#fff;padding:10px;text-align:center\"><h2>XGBoost</h2></div>"
   ]
  },
  {
   "cell_type": "code",
   "execution_count": 17,
   "metadata": {},
   "outputs": [],
   "source": [
    "\"\"\"target = my_data_train_g['gender']\n",
    "\n",
    "m = 0\n",
    "best_param = {}\n",
    "\n",
    "for min_child_weight in [0, 1, 3, 5, 7, 10]:\n",
    "    for gamma in [0, 0.1, 0.5, 1, 1.5, 2, 5]:\n",
    "        for subsample in [0.5, 0.6, 0.8, 1.0]:\n",
    "            for colsample_bytree in [0.6, 0.7, 0.8, 0.9, 1.0]:\n",
    "                for max_depth in [3, 4, 6, 10]:\n",
    "                    for eta in [0.01, 0.05, 0.1, 0.2]:\n",
    "                        for lambda_ in [0.5, 0.7, 1.0]:\n",
    "                            for alpha in [0.0, 0.1, 0.2, 0.5, 0.7]:\n",
    "\n",
    "                                params_xb = {\n",
    "                                    'eta': eta,\n",
    "                                    'max_depth': max_depth, #3,\n",
    "                                    'subsample': subsample, #0.8,\n",
    "                                    'colsample_bytree': colsample_bytree, #0.8,\n",
    "\n",
    "                                    'gamma': gamma, #0,\n",
    "                                    'lambda': lambda_,\n",
    "                                    'alpha': alpha,\n",
    "                                    'min_child_weight': min_child_weight, #0,\n",
    "\n",
    "                                    'eval_metric': 'auc',\n",
    "                                    'objective': 'binary:logistic' ,\n",
    "                                    'booster': 'gbtree',\n",
    "                                    #'njobs': -1,\n",
    "                                    #'tree_method': 'approx',\n",
    "                                    'tree_method': 'gpu_hist',\n",
    "                                    'gpu_id': 0\n",
    "                                }\n",
    "                                sc = cv_score(params_xb, my_data_train, target)\n",
    "                                if m < sc:\n",
    "                                    m = sc\n",
    "                                    best_param = params_xb\n",
    "                                    print(m, min_child_weight, gamma, subsample, colsample_bytree, max_depth, eta, lambda_, alpha)\n",
    "\"\"\"\n",
    "None"
   ]
  },
  {
   "cell_type": "code",
   "execution_count": 18,
   "metadata": {},
   "outputs": [],
   "source": [
    "#clf, submission = fit_predict(best_param, 70, my_data_train, my_data_test, target)\n",
    "#draw_feature_importances(clf, 10)"
   ]
  },
  {
   "cell_type": "code",
   "execution_count": 19,
   "metadata": {},
   "outputs": [
    {
     "data": {
      "image/png": "[encoded data removed]",
      "text/plain": [
       "<Figure size 720x720 with 1 Axes>"
      ]
     },
     "metadata": {
      "needs_background": "light"
     },
     "output_type": "display_data"
    },
    {
     "data": {
      "text/plain": [
       "0.8606"
      ]
     },
     "execution_count": 19,
     "metadata": {},
     "output_type": "execute_result"
    }
   ],
   "source": [
    "params_xb = {\n",
    "    'eta': 0.3,\n",
    "    'max_depth': 4, #3,\n",
    "    'subsample': 0.8, #0.8,\n",
    "    'colsample_bytree': 0.9, #0.8,\n",
    "\n",
    "    'gamma': .2, #0,\n",
    "    'lambda': 0.5,\n",
    "    'alpha': .5,\n",
    "    'min_child_weight': 7, #0,\n",
    "\n",
    "    'eval_metric': 'auc',\n",
    "    'objective': 'binary:logistic' ,\n",
    "    'booster': 'gbtree',\n",
    "    #'njobs': -1,\n",
    "    #'tree_method': 'approx',\n",
    "    'tree_method': 'gpu_hist',\n",
    "    'gpu_id': 0\n",
    "}\n",
    "target = my_data_train_g['gender']\n",
    "sc = cv_score(params_xb, my_data_train, target)\n",
    "clf, submission = fit_predict(params_xb, 70, my_data_train, my_data_test, target)\n",
    "draw_feature_importances(clf, 10)\n",
    "sc"
   ]
  },
  {
   "cell_type": "markdown",
   "metadata": {},
   "source": [
    "<div style=\"background:#fc0\">Запись результатов</div>"
   ]
  },
  {
   "cell_type": "code",
   "execution_count": 20,
   "metadata": {},
   "outputs": [],
   "source": [
    "# XGBoost\n",
    "submission.to_csv(f'../results/submission_xgboost_{m}.csv')"
   ]
  },
  {
   "cell_type": "code",
   "execution_count": 21,
   "metadata": {},
   "outputs": [
    {
     "data": {
      "text/plain": [
       "(1136.2994556427002, 18.93832426071167)"
      ]
     },
     "execution_count": 21,
     "metadata": {},
     "output_type": "execute_result"
    }
   ],
   "source": [
    "time.time() - start_time, (time.time() - start_time)/60"
   ]
  },
  {
   "cell_type": "markdown",
   "metadata": {},
   "source": [
    "<div style=\"background:#f00;color:#fff;padding:10px;text-align:center\"><h2>Keras</h2></div>"
   ]
  },
  {
   "cell_type": "code",
   "execution_count": 22,
   "metadata": {},
   "outputs": [],
   "source": [
    "params = [\n",
    "    {\n",
    "        \"act\": \"tanh\",\n",
    "        \"num\": 8\n",
    "    },\n",
    "    {\n",
    "        \"act\": \"tanh\",\n",
    "        \"num\": 8\n",
    "    },\n",
    "    {\n",
    "        \"act\": \"sigmoid\",\n",
    "        \"epoch\": 75,\n",
    "        'batch': 10\n",
    "    }\n",
    "]"
   ]
  },
  {
   "cell_type": "code",
   "execution_count": 23,
   "metadata": {},
   "outputs": [
    {
     "name": "stdout",
     "output_type": "stream",
     "text": [
      "Epoch 1/75\n",
      "8400/8400 [==============================] - ETA: 1:18 - loss: 0.6927 - accuracy: 0.60 - ETA: 2s - loss: 0.6905 - accuracy: 0.6000 - ETA: 1s - loss: 0.6760 - accuracy: 0.65 - ETA: 1s - loss: 0.6578 - accuracy: 0.66 - ETA: 0s - loss: 0.6350 - accuracy: 0.68 - ETA: 0s - loss: 0.6152 - accuracy: 0.69 - ETA: 0s - loss: 0.6037 - accuracy: 0.69 - ETA: 0s - loss: 0.5925 - accuracy: 0.70 - ETA: 0s - loss: 0.5802 - accuracy: 0.71 - ETA: 0s - loss: 0.5759 - accuracy: 0.71 - ETA: 0s - loss: 0.5677 - accuracy: 0.71 - ETA: 0s - loss: 0.5598 - accuracy: 0.72 - ETA: 0s - loss: 0.5548 - accuracy: 0.72 - ETA: 0s - loss: 0.5498 - accuracy: 0.72 - ETA: 0s - loss: 0.5481 - accuracy: 0.72 - ETA: 0s - loss: 0.5448 - accuracy: 0.72 - 1s 103us/step - loss: 0.5443 - accuracy: 0.7296\n",
      "Epoch 2/75\n",
      "8400/8400 [==============================] - ETA: 1:20 - loss: 0.3927 - accuracy: 0.80 - ETA: 2s - loss: 0.5014 - accuracy: 0.7509 - ETA: 1s - loss: 0.4978 - accuracy: 0.75 - ETA: 0s - loss: 0.4853 - accuracy: 0.76 - ETA: 0s - loss: 0.4951 - accuracy: 0.75 - ETA: 0s - loss: 0.4992 - accuracy: 0.75 - ETA: 0s - loss: 0.4936 - accuracy: 0.76 - ETA: 0s - loss: 0.4949 - accuracy: 0.76 - ETA: 0s - loss: 0.4988 - accuracy: 0.76 - ETA: 0s - loss: 0.4975 - accuracy: 0.76 - ETA: 0s - loss: 0.4992 - accuracy: 0.75 - ETA: 0s - loss: 0.4980 - accuracy: 0.75 - ETA: 0s - loss: 0.4953 - accuracy: 0.76 - ETA: 0s - loss: 0.4958 - accuracy: 0.76 - 1s 96us/step - loss: 0.4958 - accuracy: 0.7606\n",
      "Epoch 3/75\n",
      "8400/8400 [==============================] - ETA: 1s - loss: 0.7044 - accuracy: 0.40 - ETA: 0s - loss: 0.4572 - accuracy: 0.79 - ETA: 0s - loss: 0.4988 - accuracy: 0.75 - ETA: 0s - loss: 0.4890 - accuracy: 0.76 - ETA: 0s - loss: 0.4876 - accuracy: 0.76 - ETA: 0s - loss: 0.4836 - accuracy: 0.76 - ETA: 0s - loss: 0.4848 - accuracy: 0.76 - ETA: 0s - loss: 0.4853 - accuracy: 0.76 - ETA: 0s - loss: 0.4839 - accuracy: 0.77 - ETA: 0s - loss: 0.4845 - accuracy: 0.77 - ETA: 0s - loss: 0.4876 - accuracy: 0.76 - ETA: 0s - loss: 0.4909 - accuracy: 0.76 - ETA: 0s - loss: 0.4890 - accuracy: 0.76 - ETA: 0s - loss: 0.4900 - accuracy: 0.76 - 1s 80us/step - loss: 0.4896 - accuracy: 0.7676\n",
      "Epoch 4/75\n",
      "8400/8400 [==============================] - ETA: 1s - loss: 0.3043 - accuracy: 1.00 - ETA: 0s - loss: 0.4798 - accuracy: 0.77 - ETA: 0s - loss: 0.4663 - accuracy: 0.77 - ETA: 0s - loss: 0.4762 - accuracy: 0.77 - ETA: 0s - loss: 0.4766 - accuracy: 0.77 - ETA: 0s - loss: 0.4835 - accuracy: 0.76 - ETA: 0s - loss: 0.4878 - accuracy: 0.76 - ETA: 0s - loss: 0.4851 - accuracy: 0.76 - ETA: 0s - loss: 0.4873 - accuracy: 0.76 - ETA: 0s - loss: 0.4859 - accuracy: 0.76 - ETA: 0s - loss: 0.4871 - accuracy: 0.76 - ETA: 0s - loss: 0.4856 - accuracy: 0.76 - ETA: 0s - loss: 0.4825 - accuracy: 0.76 - ETA: 0s - loss: 0.4805 - accuracy: 0.76 - 1s 85us/step - loss: 0.4842 - accuracy: 0.7669\n",
      "Epoch 5/75\n",
      "8400/8400 [==============================] - ETA: 0s - loss: 0.5154 - accuracy: 0.80 - ETA: 0s - loss: 0.4667 - accuracy: 0.76 - ETA: 0s - loss: 0.4846 - accuracy: 0.75 - ETA: 0s - loss: 0.4786 - accuracy: 0.76 - ETA: 0s - loss: 0.4772 - accuracy: 0.76 - ETA: 0s - loss: 0.4741 - accuracy: 0.77 - ETA: 0s - loss: 0.4839 - accuracy: 0.76 - ETA: 0s - loss: 0.4834 - accuracy: 0.76 - ETA: 0s - loss: 0.4861 - accuracy: 0.76 - ETA: 0s - loss: 0.4851 - accuracy: 0.76 - ETA: 0s - loss: 0.4843 - accuracy: 0.76 - ETA: 0s - loss: 0.4838 - accuracy: 0.76 - ETA: 0s - loss: 0.4808 - accuracy: 0.76 - ETA: 0s - loss: 0.4790 - accuracy: 0.76 - 1s 83us/step - loss: 0.4805 - accuracy: 0.7662\n",
      "Epoch 6/75\n",
      "8400/8400 [==============================] - ETA: 1s - loss: 0.5940 - accuracy: 0.80 - ETA: 0s - loss: 0.4534 - accuracy: 0.78 - ETA: 0s - loss: 0.4682 - accuracy: 0.77 - ETA: 0s - loss: 0.4601 - accuracy: 0.77 - ETA: 0s - loss: 0.4613 - accuracy: 0.77 - ETA: 0s - loss: 0.4673 - accuracy: 0.77 - ETA: 0s - loss: 0.4646 - accuracy: 0.77 - ETA: 0s - loss: 0.4713 - accuracy: 0.77 - ETA: 0s - loss: 0.4749 - accuracy: 0.77 - ETA: 0s - loss: 0.4791 - accuracy: 0.76 - ETA: 0s - loss: 0.4788 - accuracy: 0.77 - ETA: 0s - loss: 0.4765 - accuracy: 0.77 - ETA: 0s - loss: 0.4743 - accuracy: 0.77 - ETA: 0s - loss: 0.4749 - accuracy: 0.77 - ETA: 0s - loss: 0.4753 - accuracy: 0.77 - 1s 89us/step - loss: 0.4758 - accuracy: 0.7736\n",
      "Epoch 7/75\n",
      "8400/8400 [==============================] - ETA: 1s - loss: 0.5694 - accuracy: 0.80 - ETA: 0s - loss: 0.4636 - accuracy: 0.78 - ETA: 0s - loss: 0.4589 - accuracy: 0.79 - ETA: 0s - loss: 0.4656 - accuracy: 0.78 - ETA: 0s - loss: 0.4655 - accuracy: 0.78 - ETA: 0s - loss: 0.4648 - accuracy: 0.78 - ETA: 0s - loss: 0.4717 - accuracy: 0.77 - ETA: 0s - loss: 0.4675 - accuracy: 0.77 - ETA: 0s - loss: 0.4700 - accuracy: 0.77 - ETA: 0s - loss: 0.4716 - accuracy: 0.77 - ETA: 0s - loss: 0.4731 - accuracy: 0.77 - ETA: 0s - loss: 0.4723 - accuracy: 0.77 - ETA: 0s - loss: 0.4739 - accuracy: 0.77 - ETA: 0s - loss: 0.4735 - accuracy: 0.77 - ETA: 0s - loss: 0.4726 - accuracy: 0.77 - 1s 88us/step - loss: 0.4730 - accuracy: 0.7731\n",
      "Epoch 8/75\n",
      "8400/8400 [==============================] - ETA: 1s - loss: 0.5645 - accuracy: 0.50 - ETA: 0s - loss: 0.4845 - accuracy: 0.74 - ETA: 0s - loss: 0.4616 - accuracy: 0.77 - ETA: 0s - loss: 0.4610 - accuracy: 0.77 - ETA: 0s - loss: 0.4690 - accuracy: 0.77 - ETA: 0s - loss: 0.4656 - accuracy: 0.77 - ETA: 0s - loss: 0.4667 - accuracy: 0.77 - ETA: 0s - loss: 0.4643 - accuracy: 0.77 - ETA: 0s - loss: 0.4630 - accuracy: 0.77 - ETA: 0s - loss: 0.4680 - accuracy: 0.77 - ETA: 0s - loss: 0.4685 - accuracy: 0.77 - ETA: 0s - loss: 0.4693 - accuracy: 0.77 - ETA: 0s - loss: 0.4695 - accuracy: 0.77 - ETA: 0s - loss: 0.4687 - accuracy: 0.77 - 1s 84us/step - loss: 0.4700 - accuracy: 0.7767\n",
      "Epoch 9/75\n",
      "8400/8400 [==============================] - ETA: 1s - loss: 0.2481 - accuracy: 1.00 - ETA: 0s - loss: 0.4431 - accuracy: 0.80 - ETA: 0s - loss: 0.4618 - accuracy: 0.78 - ETA: 0s - loss: 0.4613 - accuracy: 0.78 - ETA: 0s - loss: 0.4615 - accuracy: 0.78 - ETA: 0s - loss: 0.4644 - accuracy: 0.78 - ETA: 0s - loss: 0.4652 - accuracy: 0.77 - ETA: 0s - loss: 0.4638 - accuracy: 0.77 - ETA: 0s - loss: 0.4630 - accuracy: 0.77 - ETA: 0s - loss: 0.4643 - accuracy: 0.77 - ETA: 0s - loss: 0.4637 - accuracy: 0.77 - ETA: 0s - loss: 0.4652 - accuracy: 0.77 - ETA: 0s - loss: 0.4676 - accuracy: 0.77 - ETA: 0s - loss: 0.4679 - accuracy: 0.77 - 1s 82us/step - loss: 0.4669 - accuracy: 0.7773\n",
      "Epoch 10/75\n",
      "8400/8400 [==============================] - ETA: 1s - loss: 0.2969 - accuracy: 1.00 - ETA: 0s - loss: 0.4608 - accuracy: 0.78 - ETA: 0s - loss: 0.4649 - accuracy: 0.77 - ETA: 0s - loss: 0.4573 - accuracy: 0.78 - ETA: 0s - loss: 0.4671 - accuracy: 0.77 - ETA: 0s - loss: 0.4625 - accuracy: 0.77 - ETA: 0s - loss: 0.4579 - accuracy: 0.77 - ETA: 0s - loss: 0.4587 - accuracy: 0.77 - ETA: 0s - loss: 0.4598 - accuracy: 0.77 - ETA: 0s - loss: 0.4612 - accuracy: 0.77 - ETA: 0s - loss: 0.4643 - accuracy: 0.77 - ETA: 0s - loss: 0.4646 - accuracy: 0.77 - ETA: 0s - loss: 0.4635 - accuracy: 0.77 - ETA: 0s - loss: 0.4625 - accuracy: 0.77 - 1s 83us/step - loss: 0.4635 - accuracy: 0.7763\n",
      "Epoch 11/75\n",
      "8400/8400 [==============================] - ETA: 1s - loss: 0.2060 - accuracy: 1.00 - ETA: 0s - loss: 0.4370 - accuracy: 0.79 - ETA: 0s - loss: 0.4468 - accuracy: 0.78 - ETA: 0s - loss: 0.4515 - accuracy: 0.78 - ETA: 0s - loss: 0.4508 - accuracy: 0.79 - ETA: 0s - loss: 0.4603 - accuracy: 0.77 - ETA: 0s - loss: 0.4544 - accuracy: 0.78 - ETA: 0s - loss: 0.4557 - accuracy: 0.78 - ETA: 0s - loss: 0.4563 - accuracy: 0.78 - ETA: 0s - loss: 0.4598 - accuracy: 0.77 - ETA: 0s - loss: 0.4635 - accuracy: 0.77 - ETA: 0s - loss: 0.4612 - accuracy: 0.77 - ETA: 0s - loss: 0.4624 - accuracy: 0.77 - ETA: 0s - loss: 0.4618 - accuracy: 0.77 - 1s 81us/step - loss: 0.4610 - accuracy: 0.7804\n",
      "Epoch 12/75\n",
      "8400/8400 [==============================] - ETA: 1s - loss: 0.3839 - accuracy: 0.80 - ETA: 0s - loss: 0.4527 - accuracy: 0.78 - ETA: 0s - loss: 0.4552 - accuracy: 0.78 - ETA: 0s - loss: 0.4585 - accuracy: 0.78 - ETA: 0s - loss: 0.4627 - accuracy: 0.77 - ETA: 0s - loss: 0.4591 - accuracy: 0.77 - ETA: 0s - loss: 0.4578 - accuracy: 0.78 - ETA: 0s - loss: 0.4632 - accuracy: 0.77 - ETA: 0s - loss: 0.4647 - accuracy: 0.78 - ETA: 0s - loss: 0.4657 - accuracy: 0.77 - ETA: 0s - loss: 0.4647 - accuracy: 0.77 - ETA: 0s - loss: 0.4641 - accuracy: 0.77 - ETA: 0s - loss: 0.4597 - accuracy: 0.78 - ETA: 0s - loss: 0.4582 - accuracy: 0.77 - 1s 82us/step - loss: 0.4590 - accuracy: 0.7790\n",
      "Epoch 13/75\n",
      "8400/8400 [==============================] - ETA: 1s - loss: 0.1201 - accuracy: 1.00 - ETA: 0s - loss: 0.4206 - accuracy: 0.80 - ETA: 0s - loss: 0.4263 - accuracy: 0.80 - ETA: 0s - loss: 0.4315 - accuracy: 0.80 - ETA: 0s - loss: 0.4383 - accuracy: 0.79 - ETA: 0s - loss: 0.4438 - accuracy: 0.79 - ETA: 0s - loss: 0.4429 - accuracy: 0.79 - ETA: 0s - loss: 0.4452 - accuracy: 0.79 - ETA: 0s - loss: 0.4487 - accuracy: 0.78 - ETA: 0s - loss: 0.4523 - accuracy: 0.78 - ETA: 0s - loss: 0.4533 - accuracy: 0.78 - ETA: 0s - loss: 0.4553 - accuracy: 0.78 - ETA: 0s - loss: 0.4537 - accuracy: 0.78 - ETA: 0s - loss: 0.4543 - accuracy: 0.78 - 1s 84us/step - loss: 0.4562 - accuracy: 0.7820\n",
      "Epoch 14/75\n",
      "8400/8400 [==============================] - ETA: 1s - loss: 0.3221 - accuracy: 0.90 - ETA: 0s - loss: 0.4467 - accuracy: 0.79 - ETA: 0s - loss: 0.4456 - accuracy: 0.79 - ETA: 0s - loss: 0.4432 - accuracy: 0.79 - ETA: 0s - loss: 0.4424 - accuracy: 0.80 - ETA: 0s - loss: 0.4503 - accuracy: 0.79 - ETA: 0s - loss: 0.4542 - accuracy: 0.79 - ETA: 0s - loss: 0.4591 - accuracy: 0.78 - ETA: 0s - loss: 0.4566 - accuracy: 0.78 - ETA: 0s - loss: 0.4588 - accuracy: 0.78 - ETA: 0s - loss: 0.4608 - accuracy: 0.78 - ETA: 0s - loss: 0.4575 - accuracy: 0.78 - ETA: 0s - loss: 0.4531 - accuracy: 0.78 - ETA: 0s - loss: 0.4525 - accuracy: 0.78 - 1s 84us/step - loss: 0.4533 - accuracy: 0.7837\n",
      "Epoch 15/75\n",
      "8400/8400 [==============================] - ETA: 0s - loss: 0.2101 - accuracy: 1.00 - ETA: 0s - loss: 0.4404 - accuracy: 0.80 - ETA: 0s - loss: 0.4153 - accuracy: 0.81 - ETA: 0s - loss: 0.4188 - accuracy: 0.80 - ETA: 0s - loss: 0.4374 - accuracy: 0.79 - ETA: 0s - loss: 0.4365 - accuracy: 0.79 - ETA: 0s - loss: 0.4405 - accuracy: 0.79 - ETA: 0s - loss: 0.4473 - accuracy: 0.79 - ETA: 0s - loss: 0.4467 - accuracy: 0.79 - ETA: 0s - loss: 0.4483 - accuracy: 0.79 - ETA: 0s - loss: 0.4491 - accuracy: 0.79 - ETA: 0s - loss: 0.4503 - accuracy: 0.78 - ETA: 0s - loss: 0.4497 - accuracy: 0.78 - ETA: 0s - loss: 0.4517 - accuracy: 0.78 - 1s 84us/step - loss: 0.4520 - accuracy: 0.7871\n",
      "Epoch 16/75\n",
      "8400/8400 [==============================] - ETA: 1s - loss: 0.5356 - accuracy: 0.80 - ETA: 0s - loss: 0.4323 - accuracy: 0.80 - ETA: 0s - loss: 0.4409 - accuracy: 0.79 - ETA: 0s - loss: 0.4525 - accuracy: 0.78 - ETA: 0s - loss: 0.4498 - accuracy: 0.79 - ETA: 0s - loss: 0.4578 - accuracy: 0.78 - ETA: 0s - loss: 0.4555 - accuracy: 0.78 - ETA: 0s - loss: 0.4516 - accuracy: 0.78 - ETA: 0s - loss: 0.4524 - accuracy: 0.78 - ETA: 0s - loss: 0.4528 - accuracy: 0.78 - ETA: 0s - loss: 0.4506 - accuracy: 0.79 - ETA: 0s - loss: 0.4488 - accuracy: 0.79 - ETA: 0s - loss: 0.4492 - accuracy: 0.79 - ETA: 0s - loss: 0.4506 - accuracy: 0.79 - 1s 84us/step - loss: 0.4486 - accuracy: 0.7912\n",
      "Epoch 17/75\n",
      "8400/8400 [==============================] - ETA: 0s - loss: 0.3108 - accuracy: 0.80 - ETA: 0s - loss: 0.4580 - accuracy: 0.78 - ETA: 0s - loss: 0.4587 - accuracy: 0.78 - ETA: 0s - loss: 0.4490 - accuracy: 0.79 - ETA: 0s - loss: 0.4421 - accuracy: 0.79 - ETA: 0s - loss: 0.4455 - accuracy: 0.78 - ETA: 0s - loss: 0.4499 - accuracy: 0.78 - ETA: 0s - loss: 0.4470 - accuracy: 0.78 - ETA: 0s - loss: 0.4472 - accuracy: 0.79 - ETA: 0s - loss: 0.4454 - accuracy: 0.79 - ETA: 0s - loss: 0.4473 - accuracy: 0.79 - ETA: 0s - loss: 0.4472 - accuracy: 0.79 - ETA: 0s - loss: 0.4507 - accuracy: 0.78 - ETA: 0s - loss: 0.4481 - accuracy: 0.79 - 1s 84us/step - loss: 0.4472 - accuracy: 0.7910\n",
      "Epoch 18/75\n",
      "8400/8400 [==============================] - ETA: 1s - loss: 0.5114 - accuracy: 0.60 - ETA: 0s - loss: 0.4471 - accuracy: 0.77 - ETA: 0s - loss: 0.4472 - accuracy: 0.77 - ETA: 0s - loss: 0.4378 - accuracy: 0.78 - ETA: 0s - loss: 0.4269 - accuracy: 0.79 - ETA: 0s - loss: 0.4352 - accuracy: 0.79 - ETA: 0s - loss: 0.4439 - accuracy: 0.79 - ETA: 0s - loss: 0.4443 - accuracy: 0.78 - ETA: 0s - loss: 0.4444 - accuracy: 0.79 - ETA: 0s - loss: 0.4450 - accuracy: 0.79 - ETA: 0s - loss: 0.4450 - accuracy: 0.78 - ETA: 0s - loss: 0.4442 - accuracy: 0.79 - ETA: 0s - loss: 0.4457 - accuracy: 0.79 - ETA: 0s - loss: 0.4443 - accuracy: 0.79 - 1s 84us/step - loss: 0.4459 - accuracy: 0.7926\n",
      "Epoch 19/75\n",
      "8400/8400 [==============================] - ETA: 1s - loss: 0.6315 - accuracy: 0.70 - ETA: 0s - loss: 0.4722 - accuracy: 0.78 - ETA: 0s - loss: 0.4739 - accuracy: 0.78 - ETA: 0s - loss: 0.4625 - accuracy: 0.78 - ETA: 0s - loss: 0.4537 - accuracy: 0.78 - ETA: 0s - loss: 0.4444 - accuracy: 0.79 - ETA: 0s - loss: 0.4411 - accuracy: 0.79 - ETA: 0s - loss: 0.4415 - accuracy: 0.79 - ETA: 0s - loss: 0.4403 - accuracy: 0.79 - ETA: 0s - loss: 0.4402 - accuracy: 0.79 - ETA: 0s - loss: 0.4402 - accuracy: 0.79 - ETA: 0s - loss: 0.4422 - accuracy: 0.79 - ETA: 0s - loss: 0.4449 - accuracy: 0.79 - ETA: 0s - loss: 0.4454 - accuracy: 0.79 - 1s 83us/step - loss: 0.4433 - accuracy: 0.7945\n",
      "Epoch 20/75\n",
      "8400/8400 [==============================] - ETA: 1s - loss: 0.6865 - accuracy: 0.70 - ETA: 0s - loss: 0.3972 - accuracy: 0.82 - ETA: 0s - loss: 0.4157 - accuracy: 0.81 - ETA: 0s - loss: 0.4261 - accuracy: 0.80 - ETA: 0s - loss: 0.4356 - accuracy: 0.79 - ETA: 0s - loss: 0.4367 - accuracy: 0.79 - ETA: 0s - loss: 0.4338 - accuracy: 0.79 - ETA: 0s - loss: 0.4387 - accuracy: 0.79 - ETA: 0s - loss: 0.4420 - accuracy: 0.79 - ETA: 0s - loss: 0.4428 - accuracy: 0.79 - ETA: 0s - loss: 0.4403 - accuracy: 0.79 - ETA: 0s - loss: 0.4412 - accuracy: 0.79 - ETA: 0s - loss: 0.4434 - accuracy: 0.79 - ETA: 0s - loss: 0.4430 - accuracy: 0.79 - 1s 83us/step - loss: 0.4423 - accuracy: 0.7956\n",
      "Epoch 21/75\n",
      "8400/8400 [==============================] - ETA: 1s - loss: 0.4359 - accuracy: 0.80 - ETA: 0s - loss: 0.4303 - accuracy: 0.79 - ETA: 0s - loss: 0.4411 - accuracy: 0.79 - ETA: 0s - loss: 0.4452 - accuracy: 0.78 - ETA: 0s - loss: 0.4475 - accuracy: 0.78 - ETA: 0s - loss: 0.4456 - accuracy: 0.79 - ETA: 0s - loss: 0.4429 - accuracy: 0.79 - ETA: 0s - loss: 0.4425 - accuracy: 0.79 - ETA: 0s - loss: 0.4440 - accuracy: 0.79 - ETA: 0s - loss: 0.4416 - accuracy: 0.79 - ETA: 0s - loss: 0.4414 - accuracy: 0.79 - ETA: 0s - loss: 0.4428 - accuracy: 0.79 - ETA: 0s - loss: 0.4434 - accuracy: 0.79 - ETA: 0s - loss: 0.4423 - accuracy: 0.79 - 1s 84us/step - loss: 0.4400 - accuracy: 0.7962\n",
      "Epoch 22/75\n",
      "8400/8400 [==============================] - ETA: 1s - loss: 0.2285 - accuracy: 0.90 - ETA: 0s - loss: 0.4281 - accuracy: 0.80 - ETA: 0s - loss: 0.4197 - accuracy: 0.81 - ETA: 0s - loss: 0.4300 - accuracy: 0.80 - ETA: 0s - loss: 0.4346 - accuracy: 0.79 - ETA: 0s - loss: 0.4428 - accuracy: 0.79 - ETA: 0s - loss: 0.4383 - accuracy: 0.79 - ETA: 0s - loss: 0.4366 - accuracy: 0.79 - ETA: 0s - loss: 0.4343 - accuracy: 0.79 - ETA: 0s - loss: 0.4370 - accuracy: 0.79 - ETA: 0s - loss: 0.4387 - accuracy: 0.79 - ETA: 0s - loss: 0.4414 - accuracy: 0.79 - ETA: 0s - loss: 0.4381 - accuracy: 0.79 - ETA: 0s - loss: 0.4375 - accuracy: 0.79 - 1s 85us/step - loss: 0.4389 - accuracy: 0.7929\n",
      "Epoch 23/75\n"
     ]
    },
    {
     "name": "stdout",
     "output_type": "stream",
     "text": [
      "8400/8400 [==============================] - ETA: 0s - loss: 0.3815 - accuracy: 0.80 - ETA: 0s - loss: 0.4362 - accuracy: 0.78 - ETA: 0s - loss: 0.4376 - accuracy: 0.78 - ETA: 0s - loss: 0.4351 - accuracy: 0.79 - ETA: 0s - loss: 0.4344 - accuracy: 0.78 - ETA: 0s - loss: 0.4280 - accuracy: 0.79 - ETA: 0s - loss: 0.4290 - accuracy: 0.79 - ETA: 0s - loss: 0.4287 - accuracy: 0.79 - ETA: 0s - loss: 0.4321 - accuracy: 0.79 - ETA: 0s - loss: 0.4366 - accuracy: 0.79 - ETA: 0s - loss: 0.4363 - accuracy: 0.79 - ETA: 0s - loss: 0.4367 - accuracy: 0.79 - ETA: 0s - loss: 0.4336 - accuracy: 0.79 - ETA: 0s - loss: 0.4350 - accuracy: 0.79 - ETA: 0s - loss: 0.4369 - accuracy: 0.79 - 1s 86us/step - loss: 0.4366 - accuracy: 0.7979\n",
      "Epoch 24/75\n",
      "8400/8400 [==============================] - ETA: 1s - loss: 0.5998 - accuracy: 0.70 - ETA: 0s - loss: 0.4521 - accuracy: 0.78 - ETA: 0s - loss: 0.4574 - accuracy: 0.78 - ETA: 0s - loss: 0.4310 - accuracy: 0.80 - ETA: 0s - loss: 0.4322 - accuracy: 0.80 - ETA: 0s - loss: 0.4304 - accuracy: 0.80 - ETA: 0s - loss: 0.4308 - accuracy: 0.80 - ETA: 0s - loss: 0.4276 - accuracy: 0.80 - ETA: 0s - loss: 0.4323 - accuracy: 0.80 - ETA: 0s - loss: 0.4358 - accuracy: 0.80 - ETA: 0s - loss: 0.4364 - accuracy: 0.80 - ETA: 0s - loss: 0.4354 - accuracy: 0.79 - ETA: 0s - loss: 0.4310 - accuracy: 0.80 - ETA: 0s - loss: 0.4318 - accuracy: 0.80 - 1s 84us/step - loss: 0.4348 - accuracy: 0.7981\n",
      "Epoch 25/75\n",
      "8400/8400 [==============================] - ETA: 1s - loss: 0.3665 - accuracy: 0.80 - ETA: 0s - loss: 0.4103 - accuracy: 0.80 - ETA: 0s - loss: 0.4413 - accuracy: 0.79 - ETA: 0s - loss: 0.4359 - accuracy: 0.79 - ETA: 0s - loss: 0.4291 - accuracy: 0.80 - ETA: 0s - loss: 0.4292 - accuracy: 0.80 - ETA: 0s - loss: 0.4269 - accuracy: 0.80 - ETA: 0s - loss: 0.4319 - accuracy: 0.79 - ETA: 0s - loss: 0.4326 - accuracy: 0.79 - ETA: 0s - loss: 0.4344 - accuracy: 0.80 - ETA: 0s - loss: 0.4338 - accuracy: 0.80 - ETA: 0s - loss: 0.4354 - accuracy: 0.80 - ETA: 0s - loss: 0.4355 - accuracy: 0.80 - ETA: 0s - loss: 0.4338 - accuracy: 0.80 - ETA: 0s - loss: 0.4340 - accuracy: 0.80 - 1s 88us/step - loss: 0.4340 - accuracy: 0.8017\n",
      "Epoch 26/75\n",
      "8400/8400 [==============================] - ETA: 1s - loss: 0.5564 - accuracy: 0.70 - ETA: 0s - loss: 0.4593 - accuracy: 0.78 - ETA: 0s - loss: 0.4502 - accuracy: 0.78 - ETA: 0s - loss: 0.4478 - accuracy: 0.78 - ETA: 0s - loss: 0.4435 - accuracy: 0.78 - ETA: 0s - loss: 0.4449 - accuracy: 0.78 - ETA: 0s - loss: 0.4424 - accuracy: 0.79 - ETA: 0s - loss: 0.4357 - accuracy: 0.79 - ETA: 0s - loss: 0.4337 - accuracy: 0.80 - ETA: 0s - loss: 0.4308 - accuracy: 0.80 - ETA: 0s - loss: 0.4285 - accuracy: 0.80 - ETA: 0s - loss: 0.4307 - accuracy: 0.80 - ETA: 0s - loss: 0.4288 - accuracy: 0.80 - ETA: 0s - loss: 0.4311 - accuracy: 0.80 - 1s 85us/step - loss: 0.4332 - accuracy: 0.8005\n",
      "Epoch 27/75\n",
      "8400/8400 [==============================] - ETA: 1s - loss: 0.5108 - accuracy: 0.70 - ETA: 0s - loss: 0.4215 - accuracy: 0.80 - ETA: 0s - loss: 0.4293 - accuracy: 0.80 - ETA: 0s - loss: 0.4173 - accuracy: 0.81 - ETA: 0s - loss: 0.4151 - accuracy: 0.81 - ETA: 0s - loss: 0.4196 - accuracy: 0.81 - ETA: 0s - loss: 0.4268 - accuracy: 0.80 - ETA: 0s - loss: 0.4249 - accuracy: 0.80 - ETA: 0s - loss: 0.4260 - accuracy: 0.80 - ETA: 0s - loss: 0.4294 - accuracy: 0.80 - ETA: 0s - loss: 0.4302 - accuracy: 0.80 - ETA: 0s - loss: 0.4318 - accuracy: 0.80 - ETA: 0s - loss: 0.4337 - accuracy: 0.80 - ETA: 0s - loss: 0.4303 - accuracy: 0.80 - 1s 84us/step - loss: 0.4313 - accuracy: 0.8011\n",
      "Epoch 28/75\n",
      "8400/8400 [==============================] - ETA: 1s - loss: 0.2073 - accuracy: 1.00 - ETA: 0s - loss: 0.4279 - accuracy: 0.80 - ETA: 0s - loss: 0.4241 - accuracy: 0.80 - ETA: 0s - loss: 0.4177 - accuracy: 0.81 - ETA: 0s - loss: 0.4212 - accuracy: 0.81 - ETA: 0s - loss: 0.4261 - accuracy: 0.80 - ETA: 0s - loss: 0.4249 - accuracy: 0.80 - ETA: 0s - loss: 0.4291 - accuracy: 0.80 - ETA: 0s - loss: 0.4325 - accuracy: 0.80 - ETA: 0s - loss: 0.4309 - accuracy: 0.80 - ETA: 0s - loss: 0.4298 - accuracy: 0.80 - ETA: 0s - loss: 0.4299 - accuracy: 0.80 - ETA: 0s - loss: 0.4279 - accuracy: 0.80 - ETA: 0s - loss: 0.4297 - accuracy: 0.80 - 1s 84us/step - loss: 0.4299 - accuracy: 0.8062\n",
      "Epoch 29/75\n",
      "8400/8400 [==============================] - ETA: 1s - loss: 0.5313 - accuracy: 0.60 - ETA: 0s - loss: 0.4373 - accuracy: 0.80 - ETA: 0s - loss: 0.4171 - accuracy: 0.81 - ETA: 0s - loss: 0.4040 - accuracy: 0.81 - ETA: 0s - loss: 0.4077 - accuracy: 0.81 - ETA: 0s - loss: 0.4189 - accuracy: 0.80 - ETA: 0s - loss: 0.4276 - accuracy: 0.80 - ETA: 0s - loss: 0.4279 - accuracy: 0.80 - ETA: 0s - loss: 0.4283 - accuracy: 0.80 - ETA: 0s - loss: 0.4285 - accuracy: 0.80 - ETA: 0s - loss: 0.4298 - accuracy: 0.80 - ETA: 0s - loss: 0.4278 - accuracy: 0.80 - ETA: 0s - loss: 0.4270 - accuracy: 0.80 - ETA: 0s - loss: 0.4261 - accuracy: 0.80 - 1s 83us/step - loss: 0.4291 - accuracy: 0.8061\n",
      "Epoch 30/75\n",
      "8400/8400 [==============================] - ETA: 1s - loss: 0.1588 - accuracy: 1.00 - ETA: 0s - loss: 0.4532 - accuracy: 0.79 - ETA: 0s - loss: 0.4298 - accuracy: 0.81 - ETA: 0s - loss: 0.4324 - accuracy: 0.81 - ETA: 0s - loss: 0.4284 - accuracy: 0.81 - ETA: 0s - loss: 0.4283 - accuracy: 0.81 - ETA: 0s - loss: 0.4274 - accuracy: 0.81 - ETA: 0s - loss: 0.4251 - accuracy: 0.80 - ETA: 0s - loss: 0.4250 - accuracy: 0.80 - ETA: 0s - loss: 0.4299 - accuracy: 0.80 - ETA: 0s - loss: 0.4289 - accuracy: 0.80 - ETA: 0s - loss: 0.4282 - accuracy: 0.80 - ETA: 0s - loss: 0.4263 - accuracy: 0.80 - ETA: 0s - loss: 0.4256 - accuracy: 0.80 - 1s 84us/step - loss: 0.4276 - accuracy: 0.8071\n",
      "Epoch 31/75\n",
      "8400/8400 [==============================] - ETA: 20s - loss: 0.3900 - accuracy: 0.900 - ETA: 1s - loss: 0.4043 - accuracy: 0.820 - ETA: 0s - loss: 0.4244 - accuracy: 0.81 - ETA: 0s - loss: 0.4420 - accuracy: 0.80 - ETA: 0s - loss: 0.4347 - accuracy: 0.80 - ETA: 0s - loss: 0.4273 - accuracy: 0.80 - ETA: 0s - loss: 0.4332 - accuracy: 0.80 - ETA: 0s - loss: 0.4296 - accuracy: 0.80 - ETA: 0s - loss: 0.4266 - accuracy: 0.80 - ETA: 0s - loss: 0.4299 - accuracy: 0.80 - ETA: 0s - loss: 0.4315 - accuracy: 0.80 - ETA: 0s - loss: 0.4279 - accuracy: 0.80 - ETA: 0s - loss: 0.4322 - accuracy: 0.80 - ETA: 0s - loss: 0.4272 - accuracy: 0.80 - 1s 85us/step - loss: 0.4271 - accuracy: 0.8062\n",
      "Epoch 32/75\n",
      "8400/8400 [==============================] - ETA: 1s - loss: 0.2524 - accuracy: 0.90 - ETA: 0s - loss: 0.4090 - accuracy: 0.81 - ETA: 0s - loss: 0.4171 - accuracy: 0.81 - ETA: 0s - loss: 0.4236 - accuracy: 0.81 - ETA: 0s - loss: 0.4200 - accuracy: 0.81 - ETA: 0s - loss: 0.4209 - accuracy: 0.81 - ETA: 0s - loss: 0.4196 - accuracy: 0.81 - ETA: 0s - loss: 0.4222 - accuracy: 0.80 - ETA: 0s - loss: 0.4190 - accuracy: 0.81 - ETA: 0s - loss: 0.4178 - accuracy: 0.81 - ETA: 0s - loss: 0.4169 - accuracy: 0.81 - ETA: 0s - loss: 0.4196 - accuracy: 0.81 - ETA: 0s - loss: 0.4229 - accuracy: 0.81 - ETA: 0s - loss: 0.4242 - accuracy: 0.80 - 1s 83us/step - loss: 0.4250 - accuracy: 0.8068\n",
      "Epoch 33/75\n",
      "8400/8400 [==============================] - ETA: 1s - loss: 0.7514 - accuracy: 0.60 - ETA: 0s - loss: 0.4158 - accuracy: 0.81 - ETA: 0s - loss: 0.4149 - accuracy: 0.81 - ETA: 0s - loss: 0.4238 - accuracy: 0.80 - ETA: 0s - loss: 0.4128 - accuracy: 0.81 - ETA: 0s - loss: 0.4128 - accuracy: 0.81 - ETA: 0s - loss: 0.4165 - accuracy: 0.81 - ETA: 0s - loss: 0.4151 - accuracy: 0.81 - ETA: 0s - loss: 0.4196 - accuracy: 0.81 - ETA: 0s - loss: 0.4226 - accuracy: 0.80 - ETA: 0s - loss: 0.4196 - accuracy: 0.81 - ETA: 0s - loss: 0.4230 - accuracy: 0.80 - ETA: 0s - loss: 0.4230 - accuracy: 0.80 - ETA: 0s - loss: 0.4242 - accuracy: 0.80 - ETA: 0s - loss: 0.4248 - accuracy: 0.80 - 1s 87us/step - loss: 0.4239 - accuracy: 0.8082\n",
      "Epoch 34/75\n",
      "8400/8400 [==============================] - ETA: 0s - loss: 0.3271 - accuracy: 0.90 - ETA: 0s - loss: 0.3745 - accuracy: 0.83 - ETA: 0s - loss: 0.3880 - accuracy: 0.82 - ETA: 0s - loss: 0.4052 - accuracy: 0.80 - ETA: 0s - loss: 0.4076 - accuracy: 0.81 - ETA: 0s - loss: 0.4121 - accuracy: 0.80 - ETA: 0s - loss: 0.4181 - accuracy: 0.80 - ETA: 0s - loss: 0.4186 - accuracy: 0.80 - ETA: 0s - loss: 0.4183 - accuracy: 0.80 - ETA: 0s - loss: 0.4214 - accuracy: 0.80 - ETA: 0s - loss: 0.4234 - accuracy: 0.80 - ETA: 0s - loss: 0.4241 - accuracy: 0.80 - ETA: 0s - loss: 0.4233 - accuracy: 0.80 - ETA: 0s - loss: 0.4246 - accuracy: 0.80 - ETA: 0s - loss: 0.4230 - accuracy: 0.80 - 1s 86us/step - loss: 0.4236 - accuracy: 0.8060\n",
      "Epoch 35/75\n",
      "8400/8400 [==============================] - ETA: 1s - loss: 0.4373 - accuracy: 0.80 - ETA: 0s - loss: 0.4165 - accuracy: 0.81 - ETA: 0s - loss: 0.4165 - accuracy: 0.82 - ETA: 0s - loss: 0.4196 - accuracy: 0.81 - ETA: 0s - loss: 0.4099 - accuracy: 0.81 - ETA: 0s - loss: 0.4202 - accuracy: 0.81 - ETA: 0s - loss: 0.4229 - accuracy: 0.81 - ETA: 0s - loss: 0.4218 - accuracy: 0.80 - ETA: 0s - loss: 0.4219 - accuracy: 0.80 - ETA: 0s - loss: 0.4225 - accuracy: 0.80 - ETA: 0s - loss: 0.4222 - accuracy: 0.80 - ETA: 0s - loss: 0.4229 - accuracy: 0.80 - ETA: 0s - loss: 0.4223 - accuracy: 0.80 - ETA: 0s - loss: 0.4194 - accuracy: 0.81 - ETA: 0s - loss: 0.4225 - accuracy: 0.80 - 1s 86us/step - loss: 0.4225 - accuracy: 0.8085\n",
      "Epoch 36/75\n",
      "8400/8400 [==============================] - ETA: 1s - loss: 0.2594 - accuracy: 0.90 - ETA: 0s - loss: 0.4687 - accuracy: 0.77 - ETA: 0s - loss: 0.4297 - accuracy: 0.79 - ETA: 0s - loss: 0.4293 - accuracy: 0.79 - ETA: 0s - loss: 0.4268 - accuracy: 0.79 - ETA: 0s - loss: 0.4287 - accuracy: 0.80 - ETA: 0s - loss: 0.4287 - accuracy: 0.79 - ETA: 0s - loss: 0.4286 - accuracy: 0.80 - ETA: 0s - loss: 0.4246 - accuracy: 0.80 - ETA: 0s - loss: 0.4252 - accuracy: 0.80 - ETA: 0s - loss: 0.4255 - accuracy: 0.80 - ETA: 0s - loss: 0.4233 - accuracy: 0.80 - ETA: 0s - loss: 0.4249 - accuracy: 0.80 - ETA: 0s - loss: 0.4225 - accuracy: 0.80 - ETA: 0s - loss: 0.4211 - accuracy: 0.80 - 1s 86us/step - loss: 0.4216 - accuracy: 0.8094\n",
      "Epoch 37/75\n",
      "8400/8400 [==============================] - ETA: 1s - loss: 0.2604 - accuracy: 0.90 - ETA: 0s - loss: 0.4308 - accuracy: 0.80 - ETA: 0s - loss: 0.4174 - accuracy: 0.81 - ETA: 0s - loss: 0.4287 - accuracy: 0.80 - ETA: 0s - loss: 0.4264 - accuracy: 0.80 - ETA: 0s - loss: 0.4201 - accuracy: 0.81 - ETA: 0s - loss: 0.4230 - accuracy: 0.80 - ETA: 0s - loss: 0.4248 - accuracy: 0.80 - ETA: 0s - loss: 0.4247 - accuracy: 0.80 - ETA: 0s - loss: 0.4240 - accuracy: 0.80 - ETA: 0s - loss: 0.4237 - accuracy: 0.80 - ETA: 0s - loss: 0.4225 - accuracy: 0.81 - ETA: 0s - loss: 0.4197 - accuracy: 0.81 - ETA: 0s - loss: 0.4198 - accuracy: 0.81 - ETA: 0s - loss: 0.4203 - accuracy: 0.81 - 1s 90us/step - loss: 0.4207 - accuracy: 0.8106\n",
      "Epoch 38/75\n",
      "8400/8400 [==============================] - ETA: 1s - loss: 0.2907 - accuracy: 0.90 - ETA: 0s - loss: 0.4323 - accuracy: 0.79 - ETA: 0s - loss: 0.3986 - accuracy: 0.81 - ETA: 0s - loss: 0.4031 - accuracy: 0.81 - ETA: 0s - loss: 0.4084 - accuracy: 0.81 - ETA: 0s - loss: 0.4106 - accuracy: 0.81 - ETA: 0s - loss: 0.4139 - accuracy: 0.81 - ETA: 0s - loss: 0.4128 - accuracy: 0.81 - ETA: 0s - loss: 0.4177 - accuracy: 0.80 - ETA: 0s - loss: 0.4211 - accuracy: 0.80 - ETA: 0s - loss: 0.4225 - accuracy: 0.80 - ETA: 0s - loss: 0.4214 - accuracy: 0.80 - ETA: 0s - loss: 0.4197 - accuracy: 0.81 - ETA: 0s - loss: 0.4221 - accuracy: 0.80 - ETA: 0s - loss: 0.4196 - accuracy: 0.81 - 1s 86us/step - loss: 0.4195 - accuracy: 0.8105\n",
      "Epoch 39/75\n",
      "8400/8400 [==============================] - ETA: 1s - loss: 0.6964 - accuracy: 0.50 - ETA: 0s - loss: 0.3994 - accuracy: 0.81 - ETA: 0s - loss: 0.4109 - accuracy: 0.80 - ETA: 0s - loss: 0.4037 - accuracy: 0.80 - ETA: 0s - loss: 0.4188 - accuracy: 0.80 - ETA: 0s - loss: 0.4102 - accuracy: 0.80 - ETA: 0s - loss: 0.4171 - accuracy: 0.80 - ETA: 0s - loss: 0.4187 - accuracy: 0.80 - ETA: 0s - loss: 0.4170 - accuracy: 0.80 - ETA: 0s - loss: 0.4167 - accuracy: 0.80 - ETA: 0s - loss: 0.4160 - accuracy: 0.80 - ETA: 0s - loss: 0.4144 - accuracy: 0.81 - ETA: 0s - loss: 0.4173 - accuracy: 0.80 - ETA: 0s - loss: 0.4168 - accuracy: 0.81 - 1s 82us/step - loss: 0.4179 - accuracy: 0.8098\n",
      "Epoch 40/75\n",
      "8400/8400 [==============================] - ETA: 1s - loss: 0.4125 - accuracy: 0.90 - ETA: 0s - loss: 0.4165 - accuracy: 0.80 - ETA: 0s - loss: 0.4227 - accuracy: 0.80 - ETA: 0s - loss: 0.4248 - accuracy: 0.80 - ETA: 0s - loss: 0.4122 - accuracy: 0.81 - ETA: 0s - loss: 0.4173 - accuracy: 0.80 - ETA: 0s - loss: 0.4126 - accuracy: 0.81 - ETA: 0s - loss: 0.4092 - accuracy: 0.81 - ETA: 0s - loss: 0.4076 - accuracy: 0.81 - ETA: 0s - loss: 0.4081 - accuracy: 0.81 - ETA: 0s - loss: 0.4073 - accuracy: 0.81 - ETA: 0s - loss: 0.4123 - accuracy: 0.81 - ETA: 0s - loss: 0.4122 - accuracy: 0.81 - ETA: 0s - loss: 0.4156 - accuracy: 0.81 - ETA: 0s - loss: 0.4178 - accuracy: 0.81 - 1s 86us/step - loss: 0.4179 - accuracy: 0.8106\n",
      "Epoch 41/75\n",
      "8400/8400 [==============================] - ETA: 1s - loss: 0.4054 - accuracy: 0.80 - ETA: 0s - loss: 0.3862 - accuracy: 0.83 - ETA: 0s - loss: 0.4002 - accuracy: 0.82 - ETA: 0s - loss: 0.4001 - accuracy: 0.82 - ETA: 0s - loss: 0.4000 - accuracy: 0.82 - ETA: 0s - loss: 0.4047 - accuracy: 0.82 - ETA: 0s - loss: 0.4012 - accuracy: 0.82 - ETA: 0s - loss: 0.4101 - accuracy: 0.81 - ETA: 0s - loss: 0.4092 - accuracy: 0.81 - ETA: 0s - loss: 0.4096 - accuracy: 0.81 - ETA: 0s - loss: 0.4178 - accuracy: 0.81 - ETA: 0s - loss: 0.4169 - accuracy: 0.81 - ETA: 0s - loss: 0.4166 - accuracy: 0.81 - ETA: 0s - loss: 0.4162 - accuracy: 0.81 - ETA: 0s - loss: 0.4167 - accuracy: 0.80 - 1s 89us/step - loss: 0.4168 - accuracy: 0.8093\n",
      "Epoch 42/75\n",
      "8400/8400 [==============================] - ETA: 1s - loss: 0.4508 - accuracy: 0.90 - ETA: 0s - loss: 0.4437 - accuracy: 0.78 - ETA: 0s - loss: 0.4279 - accuracy: 0.80 - ETA: 0s - loss: 0.4205 - accuracy: 0.80 - ETA: 0s - loss: 0.4284 - accuracy: 0.80 - ETA: 0s - loss: 0.4290 - accuracy: 0.80 - ETA: 0s - loss: 0.4266 - accuracy: 0.80 - ETA: 0s - loss: 0.4204 - accuracy: 0.80 - ETA: 0s - loss: 0.4190 - accuracy: 0.80 - ETA: 0s - loss: 0.4174 - accuracy: 0.81 - ETA: 0s - loss: 0.4154 - accuracy: 0.81 - ETA: 0s - loss: 0.4123 - accuracy: 0.81 - ETA: 0s - loss: 0.4151 - accuracy: 0.81 - ETA: 0s - loss: 0.4163 - accuracy: 0.81 - ETA: 0s - loss: 0.4151 - accuracy: 0.81 - ETA: 0s - loss: 0.4154 - accuracy: 0.81 - 1s 92us/step - loss: 0.4150 - accuracy: 0.8112\n",
      "Epoch 43/75\n",
      "8400/8400 [==============================] - ETA: 1s - loss: 0.7026 - accuracy: 0.80 - ETA: 0s - loss: 0.4315 - accuracy: 0.81 - ETA: 0s - loss: 0.4316 - accuracy: 0.80 - ETA: 0s - loss: 0.4270 - accuracy: 0.81 - ETA: 0s - loss: 0.4185 - accuracy: 0.81 - ETA: 0s - loss: 0.4210 - accuracy: 0.80 - ETA: 0s - loss: 0.4155 - accuracy: 0.81 - ETA: 0s - loss: 0.4169 - accuracy: 0.80 - ETA: 0s - loss: 0.4132 - accuracy: 0.81 - ETA: 0s - loss: 0.4110 - accuracy: 0.81 - ETA: 0s - loss: 0.4119 - accuracy: 0.81 - ETA: 0s - loss: 0.4117 - accuracy: 0.81 - ETA: 0s - loss: 0.4114 - accuracy: 0.81 - ETA: 0s - loss: 0.4136 - accuracy: 0.81 - ETA: 0s - loss: 0.4143 - accuracy: 0.81 - 1s 87us/step - loss: 0.4142 - accuracy: 0.8131\n",
      "Epoch 44/75\n",
      "8400/8400 [==============================] - ETA: 2s - loss: 0.3472 - accuracy: 0.80 - ETA: 0s - loss: 0.3968 - accuracy: 0.81 - ETA: 0s - loss: 0.4127 - accuracy: 0.80 - ETA: 0s - loss: 0.4039 - accuracy: 0.81 - ETA: 0s - loss: 0.4135 - accuracy: 0.80 - ETA: 0s - loss: 0.4088 - accuracy: 0.81 - ETA: 0s - loss: 0.4062 - accuracy: 0.81 - ETA: 0s - loss: 0.4134 - accuracy: 0.81 - ETA: 0s - loss: 0.4096 - accuracy: 0.81 - ETA: 0s - loss: 0.4056 - accuracy: 0.81 - ETA: 0s - loss: 0.4069 - accuracy: 0.81 - ETA: 0s - loss: 0.4075 - accuracy: 0.81 - ETA: 0s - loss: 0.4088 - accuracy: 0.81 - ETA: 0s - loss: 0.4121 - accuracy: 0.81 - ETA: 0s - loss: 0.4145 - accuracy: 0.81 - 1s 87us/step - loss: 0.4143 - accuracy: 0.8104\n",
      "Epoch 45/75\n"
     ]
    },
    {
     "name": "stdout",
     "output_type": "stream",
     "text": [
      "8400/8400 [==============================] - ETA: 1s - loss: 0.1938 - accuracy: 1.00 - ETA: 0s - loss: 0.3965 - accuracy: 0.82 - ETA: 0s - loss: 0.3899 - accuracy: 0.82 - ETA: 0s - loss: 0.3984 - accuracy: 0.81 - ETA: 0s - loss: 0.4084 - accuracy: 0.81 - ETA: 0s - loss: 0.4065 - accuracy: 0.81 - ETA: 0s - loss: 0.4049 - accuracy: 0.81 - ETA: 0s - loss: 0.4090 - accuracy: 0.81 - ETA: 0s - loss: 0.4074 - accuracy: 0.81 - ETA: 0s - loss: 0.4080 - accuracy: 0.81 - ETA: 0s - loss: 0.4090 - accuracy: 0.81 - ETA: 0s - loss: 0.4104 - accuracy: 0.81 - ETA: 0s - loss: 0.4114 - accuracy: 0.81 - ETA: 0s - loss: 0.4113 - accuracy: 0.81 - 1s 83us/step - loss: 0.4128 - accuracy: 0.8119\n",
      "Epoch 46/75\n",
      "8400/8400 [==============================] - ETA: 1s - loss: 0.1795 - accuracy: 1.00 - ETA: 0s - loss: 0.4492 - accuracy: 0.79 - ETA: 0s - loss: 0.4267 - accuracy: 0.81 - ETA: 0s - loss: 0.4071 - accuracy: 0.82 - ETA: 0s - loss: 0.4020 - accuracy: 0.82 - ETA: 0s - loss: 0.4065 - accuracy: 0.81 - ETA: 0s - loss: 0.4100 - accuracy: 0.81 - ETA: 0s - loss: 0.4133 - accuracy: 0.81 - ETA: 0s - loss: 0.4159 - accuracy: 0.81 - ETA: 0s - loss: 0.4168 - accuracy: 0.81 - ETA: 0s - loss: 0.4127 - accuracy: 0.81 - ETA: 0s - loss: 0.4110 - accuracy: 0.81 - ETA: 0s - loss: 0.4122 - accuracy: 0.81 - ETA: 0s - loss: 0.4124 - accuracy: 0.81 - 1s 85us/step - loss: 0.4123 - accuracy: 0.8146\n",
      "Epoch 47/75\n",
      "8400/8400 [==============================] - ETA: 0s - loss: 0.4427 - accuracy: 0.80 - ETA: 0s - loss: 0.3668 - accuracy: 0.84 - ETA: 0s - loss: 0.3884 - accuracy: 0.83 - ETA: 0s - loss: 0.3964 - accuracy: 0.82 - ETA: 0s - loss: 0.4009 - accuracy: 0.82 - ETA: 0s - loss: 0.4052 - accuracy: 0.82 - ETA: 0s - loss: 0.4078 - accuracy: 0.82 - ETA: 0s - loss: 0.4107 - accuracy: 0.81 - ETA: 0s - loss: 0.4099 - accuracy: 0.81 - ETA: 0s - loss: 0.4138 - accuracy: 0.81 - ETA: 0s - loss: 0.4153 - accuracy: 0.81 - ETA: 0s - loss: 0.4153 - accuracy: 0.81 - ETA: 0s - loss: 0.4159 - accuracy: 0.81 - ETA: 0s - loss: 0.4151 - accuracy: 0.81 - 1s 83us/step - loss: 0.4119 - accuracy: 0.8149\n",
      "Epoch 48/75\n",
      "8400/8400 [==============================] - ETA: 1s - loss: 0.2658 - accuracy: 0.90 - ETA: 0s - loss: 0.4124 - accuracy: 0.82 - ETA: 0s - loss: 0.4077 - accuracy: 0.81 - ETA: 0s - loss: 0.4001 - accuracy: 0.82 - ETA: 0s - loss: 0.4124 - accuracy: 0.81 - ETA: 0s - loss: 0.4106 - accuracy: 0.81 - ETA: 0s - loss: 0.4116 - accuracy: 0.81 - ETA: 0s - loss: 0.4172 - accuracy: 0.81 - ETA: 0s - loss: 0.4130 - accuracy: 0.81 - ETA: 0s - loss: 0.4123 - accuracy: 0.81 - ETA: 0s - loss: 0.4143 - accuracy: 0.81 - ETA: 0s - loss: 0.4130 - accuracy: 0.81 - ETA: 0s - loss: 0.4121 - accuracy: 0.81 - ETA: 0s - loss: 0.4141 - accuracy: 0.81 - ETA: 0s - loss: 0.4113 - accuracy: 0.81 - 1s 86us/step - loss: 0.4108 - accuracy: 0.8139\n",
      "Epoch 49/75\n",
      "8400/8400 [==============================] - ETA: 0s - loss: 0.5825 - accuracy: 0.80 - ETA: 0s - loss: 0.4214 - accuracy: 0.81 - ETA: 0s - loss: 0.4169 - accuracy: 0.81 - ETA: 0s - loss: 0.4178 - accuracy: 0.81 - ETA: 0s - loss: 0.4148 - accuracy: 0.81 - ETA: 0s - loss: 0.4140 - accuracy: 0.80 - ETA: 0s - loss: 0.4081 - accuracy: 0.81 - ETA: 0s - loss: 0.4086 - accuracy: 0.81 - ETA: 0s - loss: 0.4080 - accuracy: 0.81 - ETA: 0s - loss: 0.4121 - accuracy: 0.80 - ETA: 0s - loss: 0.4069 - accuracy: 0.81 - ETA: 0s - loss: 0.4058 - accuracy: 0.81 - ETA: 0s - loss: 0.4069 - accuracy: 0.81 - ETA: 0s - loss: 0.4063 - accuracy: 0.81 - 1s 84us/step - loss: 0.4102 - accuracy: 0.8146\n",
      "Epoch 50/75\n",
      "8400/8400 [==============================] - ETA: 1s - loss: 0.6252 - accuracy: 0.80 - ETA: 0s - loss: 0.4016 - accuracy: 0.81 - ETA: 0s - loss: 0.4177 - accuracy: 0.80 - ETA: 0s - loss: 0.4018 - accuracy: 0.82 - ETA: 0s - loss: 0.3955 - accuracy: 0.82 - ETA: 0s - loss: 0.3958 - accuracy: 0.81 - ETA: 0s - loss: 0.4000 - accuracy: 0.81 - ETA: 0s - loss: 0.4009 - accuracy: 0.81 - ETA: 0s - loss: 0.4012 - accuracy: 0.81 - ETA: 0s - loss: 0.4022 - accuracy: 0.81 - ETA: 0s - loss: 0.4043 - accuracy: 0.81 - ETA: 0s - loss: 0.4033 - accuracy: 0.81 - ETA: 0s - loss: 0.4054 - accuracy: 0.81 - ETA: 0s - loss: 0.4063 - accuracy: 0.81 - 1s 85us/step - loss: 0.4092 - accuracy: 0.8149\n",
      "Epoch 51/75\n",
      "8400/8400 [==============================] - ETA: 1s - loss: 0.3983 - accuracy: 0.90 - ETA: 0s - loss: 0.4119 - accuracy: 0.81 - ETA: 0s - loss: 0.4196 - accuracy: 0.81 - ETA: 0s - loss: 0.4101 - accuracy: 0.82 - ETA: 0s - loss: 0.4207 - accuracy: 0.81 - ETA: 0s - loss: 0.4223 - accuracy: 0.81 - ETA: 0s - loss: 0.4174 - accuracy: 0.81 - ETA: 0s - loss: 0.4115 - accuracy: 0.81 - ETA: 0s - loss: 0.4119 - accuracy: 0.81 - ETA: 0s - loss: 0.4141 - accuracy: 0.81 - ETA: 0s - loss: 0.4182 - accuracy: 0.81 - ETA: 0s - loss: 0.4168 - accuracy: 0.81 - ETA: 0s - loss: 0.4127 - accuracy: 0.81 - ETA: 0s - loss: 0.4103 - accuracy: 0.81 - 1s 84us/step - loss: 0.4084 - accuracy: 0.8182\n",
      "Epoch 52/75\n",
      "8400/8400 [==============================] - ETA: 1s - loss: 0.3034 - accuracy: 0.90 - ETA: 0s - loss: 0.4223 - accuracy: 0.80 - ETA: 0s - loss: 0.3915 - accuracy: 0.82 - ETA: 0s - loss: 0.3874 - accuracy: 0.83 - ETA: 0s - loss: 0.3962 - accuracy: 0.82 - ETA: 0s - loss: 0.4010 - accuracy: 0.81 - ETA: 0s - loss: 0.4044 - accuracy: 0.81 - ETA: 0s - loss: 0.4014 - accuracy: 0.82 - ETA: 0s - loss: 0.4009 - accuracy: 0.82 - ETA: 0s - loss: 0.4031 - accuracy: 0.82 - ETA: 0s - loss: 0.4050 - accuracy: 0.82 - ETA: 0s - loss: 0.4048 - accuracy: 0.81 - ETA: 0s - loss: 0.4105 - accuracy: 0.81 - ETA: 0s - loss: 0.4105 - accuracy: 0.81 - 1s 84us/step - loss: 0.4088 - accuracy: 0.8173\n",
      "Epoch 53/75\n",
      "8400/8400 [==============================] - ETA: 1s - loss: 0.5147 - accuracy: 0.70 - ETA: 0s - loss: 0.3662 - accuracy: 0.83 - ETA: 0s - loss: 0.3794 - accuracy: 0.83 - ETA: 0s - loss: 0.3815 - accuracy: 0.82 - ETA: 0s - loss: 0.3832 - accuracy: 0.82 - ETA: 0s - loss: 0.3859 - accuracy: 0.82 - ETA: 0s - loss: 0.3907 - accuracy: 0.82 - ETA: 0s - loss: 0.3953 - accuracy: 0.82 - ETA: 0s - loss: 0.3944 - accuracy: 0.82 - ETA: 0s - loss: 0.3979 - accuracy: 0.82 - ETA: 0s - loss: 0.3991 - accuracy: 0.82 - ETA: 0s - loss: 0.4013 - accuracy: 0.82 - ETA: 0s - loss: 0.4025 - accuracy: 0.82 - ETA: 0s - loss: 0.4039 - accuracy: 0.82 - ETA: 0s - loss: 0.4090 - accuracy: 0.81 - 1s 93us/step - loss: 0.4070 - accuracy: 0.8176\n",
      "Epoch 54/75\n",
      "8400/8400 [==============================] - ETA: 1s - loss: 0.3094 - accuracy: 0.90 - ETA: 0s - loss: 0.3939 - accuracy: 0.82 - ETA: 0s - loss: 0.3905 - accuracy: 0.82 - ETA: 0s - loss: 0.3980 - accuracy: 0.82 - ETA: 0s - loss: 0.3934 - accuracy: 0.82 - ETA: 0s - loss: 0.3987 - accuracy: 0.82 - ETA: 0s - loss: 0.4009 - accuracy: 0.82 - ETA: 0s - loss: 0.4068 - accuracy: 0.81 - ETA: 0s - loss: 0.4038 - accuracy: 0.81 - ETA: 0s - loss: 0.4003 - accuracy: 0.82 - ETA: 0s - loss: 0.4017 - accuracy: 0.82 - ETA: 0s - loss: 0.4027 - accuracy: 0.82 - ETA: 0s - loss: 0.4042 - accuracy: 0.81 - ETA: 0s - loss: 0.4045 - accuracy: 0.82 - ETA: 0s - loss: 0.4075 - accuracy: 0.81 - 1s 90us/step - loss: 0.4069 - accuracy: 0.8193\n",
      "Epoch 55/75\n",
      "8400/8400 [==============================] - ETA: 1s - loss: 0.3841 - accuracy: 0.80 - ETA: 0s - loss: 0.3889 - accuracy: 0.82 - ETA: 0s - loss: 0.3835 - accuracy: 0.82 - ETA: 0s - loss: 0.3932 - accuracy: 0.82 - ETA: 0s - loss: 0.4038 - accuracy: 0.81 - ETA: 0s - loss: 0.4067 - accuracy: 0.81 - ETA: 0s - loss: 0.4056 - accuracy: 0.81 - ETA: 0s - loss: 0.4094 - accuracy: 0.81 - ETA: 0s - loss: 0.4051 - accuracy: 0.81 - ETA: 0s - loss: 0.4026 - accuracy: 0.81 - ETA: 0s - loss: 0.4012 - accuracy: 0.82 - ETA: 0s - loss: 0.4027 - accuracy: 0.81 - ETA: 0s - loss: 0.4028 - accuracy: 0.82 - ETA: 0s - loss: 0.4038 - accuracy: 0.81 - ETA: 0s - loss: 0.4040 - accuracy: 0.81 - ETA: 0s - loss: 0.4052 - accuracy: 0.81 - 1s 93us/step - loss: 0.4061 - accuracy: 0.8180\n",
      "Epoch 56/75\n",
      "8400/8400 [==============================] - ETA: 1s - loss: 0.1611 - accuracy: 1.00 - ETA: 0s - loss: 0.3654 - accuracy: 0.83 - ETA: 0s - loss: 0.3794 - accuracy: 0.83 - ETA: 0s - loss: 0.3748 - accuracy: 0.83 - ETA: 0s - loss: 0.3880 - accuracy: 0.82 - ETA: 0s - loss: 0.3966 - accuracy: 0.82 - ETA: 0s - loss: 0.3999 - accuracy: 0.82 - ETA: 0s - loss: 0.4063 - accuracy: 0.81 - ETA: 0s - loss: 0.4066 - accuracy: 0.81 - ETA: 0s - loss: 0.4073 - accuracy: 0.81 - ETA: 0s - loss: 0.4084 - accuracy: 0.81 - ETA: 0s - loss: 0.4061 - accuracy: 0.81 - ETA: 0s - loss: 0.4072 - accuracy: 0.81 - ETA: 0s - loss: 0.4063 - accuracy: 0.81 - ETA: 0s - loss: 0.4034 - accuracy: 0.81 - 1s 87us/step - loss: 0.4048 - accuracy: 0.8169\n",
      "Epoch 57/75\n",
      "8400/8400 [==============================] - ETA: 2s - loss: 0.4343 - accuracy: 0.60 - ETA: 0s - loss: 0.4248 - accuracy: 0.80 - ETA: 0s - loss: 0.3960 - accuracy: 0.82 - ETA: 0s - loss: 0.4005 - accuracy: 0.81 - ETA: 0s - loss: 0.4000 - accuracy: 0.81 - ETA: 0s - loss: 0.4051 - accuracy: 0.81 - ETA: 0s - loss: 0.4047 - accuracy: 0.81 - ETA: 0s - loss: 0.4082 - accuracy: 0.81 - ETA: 0s - loss: 0.4055 - accuracy: 0.81 - ETA: 0s - loss: 0.4048 - accuracy: 0.81 - ETA: 0s - loss: 0.4011 - accuracy: 0.82 - ETA: 0s - loss: 0.4029 - accuracy: 0.81 - ETA: 0s - loss: 0.4032 - accuracy: 0.82 - ETA: 0s - loss: 0.4046 - accuracy: 0.81 - ETA: 0s - loss: 0.4046 - accuracy: 0.81 - 1s 88us/step - loss: 0.4042 - accuracy: 0.8200\n",
      "Epoch 58/75\n",
      "8400/8400 [==============================] - ETA: 1s - loss: 0.2397 - accuracy: 1.00 - ETA: 0s - loss: 0.4071 - accuracy: 0.82 - ETA: 0s - loss: 0.3979 - accuracy: 0.82 - ETA: 0s - loss: 0.3949 - accuracy: 0.82 - ETA: 0s - loss: 0.3959 - accuracy: 0.81 - ETA: 0s - loss: 0.3977 - accuracy: 0.81 - ETA: 0s - loss: 0.3987 - accuracy: 0.81 - ETA: 0s - loss: 0.4000 - accuracy: 0.81 - ETA: 0s - loss: 0.3998 - accuracy: 0.81 - ETA: 0s - loss: 0.4028 - accuracy: 0.81 - ETA: 0s - loss: 0.4009 - accuracy: 0.81 - ETA: 0s - loss: 0.4018 - accuracy: 0.81 - ETA: 0s - loss: 0.4026 - accuracy: 0.81 - ETA: 0s - loss: 0.4025 - accuracy: 0.81 - ETA: 0s - loss: 0.4037 - accuracy: 0.81 - 1s 86us/step - loss: 0.4034 - accuracy: 0.8176\n",
      "Epoch 59/75\n",
      "8400/8400 [==============================] - ETA: 2s - loss: 0.8956 - accuracy: 0.70 - ETA: 0s - loss: 0.3967 - accuracy: 0.81 - ETA: 0s - loss: 0.4000 - accuracy: 0.82 - ETA: 0s - loss: 0.3845 - accuracy: 0.83 - ETA: 0s - loss: 0.3993 - accuracy: 0.82 - ETA: 0s - loss: 0.4008 - accuracy: 0.82 - ETA: 0s - loss: 0.3984 - accuracy: 0.82 - ETA: 0s - loss: 0.3978 - accuracy: 0.82 - ETA: 0s - loss: 0.3977 - accuracy: 0.82 - ETA: 0s - loss: 0.4010 - accuracy: 0.82 - ETA: 0s - loss: 0.4008 - accuracy: 0.82 - ETA: 0s - loss: 0.3999 - accuracy: 0.82 - ETA: 0s - loss: 0.4031 - accuracy: 0.82 - ETA: 0s - loss: 0.3998 - accuracy: 0.82 - ETA: 0s - loss: 0.4019 - accuracy: 0.81 - 1s 91us/step - loss: 0.4023 - accuracy: 0.8201\n",
      "Epoch 60/75\n",
      "8400/8400 [==============================] - ETA: 1s - loss: 0.1960 - accuracy: 0.90 - ETA: 0s - loss: 0.3978 - accuracy: 0.81 - ETA: 0s - loss: 0.3791 - accuracy: 0.83 - ETA: 0s - loss: 0.3796 - accuracy: 0.83 - ETA: 0s - loss: 0.3885 - accuracy: 0.82 - ETA: 0s - loss: 0.3885 - accuracy: 0.82 - ETA: 0s - loss: 0.3868 - accuracy: 0.82 - ETA: 0s - loss: 0.3952 - accuracy: 0.82 - ETA: 0s - loss: 0.4001 - accuracy: 0.82 - ETA: 0s - loss: 0.4014 - accuracy: 0.81 - ETA: 0s - loss: 0.3957 - accuracy: 0.82 - ETA: 0s - loss: 0.3962 - accuracy: 0.82 - ETA: 0s - loss: 0.4007 - accuracy: 0.81 - ETA: 0s - loss: 0.4020 - accuracy: 0.81 - ETA: 0s - loss: 0.4030 - accuracy: 0.81 - 1s 86us/step - loss: 0.4016 - accuracy: 0.8194\n",
      "Epoch 61/75\n",
      "8400/8400 [==============================] - ETA: 1s - loss: 0.2000 - accuracy: 0.90 - ETA: 0s - loss: 0.3946 - accuracy: 0.83 - ETA: 0s - loss: 0.3905 - accuracy: 0.82 - ETA: 0s - loss: 0.3877 - accuracy: 0.83 - ETA: 0s - loss: 0.3907 - accuracy: 0.82 - ETA: 0s - loss: 0.3893 - accuracy: 0.82 - ETA: 0s - loss: 0.3949 - accuracy: 0.82 - ETA: 0s - loss: 0.3952 - accuracy: 0.81 - ETA: 0s - loss: 0.3916 - accuracy: 0.82 - ETA: 0s - loss: 0.3916 - accuracy: 0.82 - ETA: 0s - loss: 0.3966 - accuracy: 0.81 - ETA: 0s - loss: 0.4013 - accuracy: 0.81 - ETA: 0s - loss: 0.3992 - accuracy: 0.81 - ETA: 0s - loss: 0.4009 - accuracy: 0.81 - ETA: 0s - loss: 0.4025 - accuracy: 0.81 - 1s 87us/step - loss: 0.4018 - accuracy: 0.8186\n",
      "Epoch 62/75\n",
      "8400/8400 [==============================] - ETA: 1s - loss: 0.2396 - accuracy: 1.00 - ETA: 0s - loss: 0.3984 - accuracy: 0.83 - ETA: 0s - loss: 0.3957 - accuracy: 0.83 - ETA: 0s - loss: 0.3935 - accuracy: 0.82 - ETA: 0s - loss: 0.4021 - accuracy: 0.82 - ETA: 0s - loss: 0.4035 - accuracy: 0.81 - ETA: 0s - loss: 0.4045 - accuracy: 0.81 - ETA: 0s - loss: 0.4061 - accuracy: 0.81 - ETA: 0s - loss: 0.4119 - accuracy: 0.81 - ETA: 0s - loss: 0.4055 - accuracy: 0.81 - ETA: 0s - loss: 0.4077 - accuracy: 0.81 - ETA: 0s - loss: 0.4052 - accuracy: 0.81 - ETA: 0s - loss: 0.4039 - accuracy: 0.81 - ETA: 0s - loss: 0.4048 - accuracy: 0.81 - ETA: 0s - loss: 0.4027 - accuracy: 0.81 - 1s 89us/step - loss: 0.4008 - accuracy: 0.8190\n",
      "Epoch 63/75\n",
      "8400/8400 [==============================] - ETA: 1s - loss: 0.2816 - accuracy: 0.90 - ETA: 0s - loss: 0.3560 - accuracy: 0.85 - ETA: 0s - loss: 0.3920 - accuracy: 0.82 - ETA: 0s - loss: 0.3937 - accuracy: 0.82 - ETA: 0s - loss: 0.3927 - accuracy: 0.82 - ETA: 0s - loss: 0.3902 - accuracy: 0.83 - ETA: 0s - loss: 0.3936 - accuracy: 0.82 - ETA: 0s - loss: 0.3937 - accuracy: 0.82 - ETA: 0s - loss: 0.3933 - accuracy: 0.82 - ETA: 0s - loss: 0.3941 - accuracy: 0.82 - ETA: 0s - loss: 0.3936 - accuracy: 0.82 - ETA: 0s - loss: 0.3964 - accuracy: 0.82 - ETA: 0s - loss: 0.3994 - accuracy: 0.82 - ETA: 0s - loss: 0.4009 - accuracy: 0.82 - ETA: 0s - loss: 0.4013 - accuracy: 0.82 - 1s 86us/step - loss: 0.4009 - accuracy: 0.8211\n",
      "Epoch 64/75\n",
      "8400/8400 [==============================] - ETA: 1s - loss: 0.5346 - accuracy: 0.70 - ETA: 0s - loss: 0.4160 - accuracy: 0.82 - ETA: 0s - loss: 0.4035 - accuracy: 0.82 - ETA: 0s - loss: 0.3984 - accuracy: 0.82 - ETA: 0s - loss: 0.4054 - accuracy: 0.82 - ETA: 0s - loss: 0.4012 - accuracy: 0.82 - ETA: 0s - loss: 0.4059 - accuracy: 0.82 - ETA: 0s - loss: 0.4068 - accuracy: 0.81 - ETA: 0s - loss: 0.4033 - accuracy: 0.81 - ETA: 0s - loss: 0.4004 - accuracy: 0.82 - ETA: 0s - loss: 0.3964 - accuracy: 0.82 - ETA: 0s - loss: 0.3966 - accuracy: 0.82 - ETA: 0s - loss: 0.3973 - accuracy: 0.82 - ETA: 0s - loss: 0.3962 - accuracy: 0.82 - ETA: 0s - loss: 0.3977 - accuracy: 0.82 - ETA: 0s - loss: 0.3999 - accuracy: 0.82 - 1s 92us/step - loss: 0.4003 - accuracy: 0.8205\n",
      "Epoch 65/75\n",
      "8400/8400 [==============================] - ETA: 1s - loss: 0.1803 - accuracy: 0.90 - ETA: 0s - loss: 0.4073 - accuracy: 0.80 - ETA: 0s - loss: 0.4128 - accuracy: 0.80 - ETA: 0s - loss: 0.4238 - accuracy: 0.80 - ETA: 0s - loss: 0.4156 - accuracy: 0.81 - ETA: 0s - loss: 0.4120 - accuracy: 0.81 - ETA: 0s - loss: 0.4116 - accuracy: 0.81 - ETA: 0s - loss: 0.4155 - accuracy: 0.81 - ETA: 0s - loss: 0.4113 - accuracy: 0.81 - ETA: 0s - loss: 0.4098 - accuracy: 0.81 - ETA: 0s - loss: 0.4049 - accuracy: 0.81 - ETA: 0s - loss: 0.4023 - accuracy: 0.81 - ETA: 0s - loss: 0.3988 - accuracy: 0.82 - ETA: 0s - loss: 0.3989 - accuracy: 0.82 - ETA: 0s - loss: 0.3974 - accuracy: 0.82 - ETA: 0s - loss: 0.3987 - accuracy: 0.82 - 1s 93us/step - loss: 0.3991 - accuracy: 0.8229\n",
      "Epoch 66/75\n",
      "8400/8400 [==============================] - ETA: 2s - loss: 0.2697 - accuracy: 0.90 - ETA: 0s - loss: 0.3851 - accuracy: 0.82 - ETA: 0s - loss: 0.4110 - accuracy: 0.81 - ETA: 0s - loss: 0.4001 - accuracy: 0.82 - ETA: 0s - loss: 0.4074 - accuracy: 0.81 - ETA: 0s - loss: 0.4011 - accuracy: 0.82 - ETA: 0s - loss: 0.3968 - accuracy: 0.82 - ETA: 0s - loss: 0.3950 - accuracy: 0.82 - ETA: 0s - loss: 0.3937 - accuracy: 0.82 - ETA: 0s - loss: 0.3924 - accuracy: 0.82 - ETA: 0s - loss: 0.3928 - accuracy: 0.82 - ETA: 0s - loss: 0.3938 - accuracy: 0.82 - ETA: 0s - loss: 0.3962 - accuracy: 0.82 - ETA: 0s - loss: 0.3974 - accuracy: 0.82 - ETA: 0s - loss: 0.3992 - accuracy: 0.82 - ETA: 0s - loss: 0.3997 - accuracy: 0.82 - 1s 94us/step - loss: 0.3990 - accuracy: 0.8240\n"
     ]
    },
    {
     "name": "stdout",
     "output_type": "stream",
     "text": [
      "Epoch 67/75\n",
      "8400/8400 [==============================] - ETA: 1s - loss: 0.2358 - accuracy: 0.90 - ETA: 0s - loss: 0.3978 - accuracy: 0.83 - ETA: 0s - loss: 0.3865 - accuracy: 0.84 - ETA: 0s - loss: 0.3880 - accuracy: 0.83 - ETA: 0s - loss: 0.3909 - accuracy: 0.83 - ETA: 0s - loss: 0.3864 - accuracy: 0.83 - ETA: 0s - loss: 0.3877 - accuracy: 0.82 - ETA: 0s - loss: 0.3907 - accuracy: 0.82 - ETA: 0s - loss: 0.3956 - accuracy: 0.82 - ETA: 0s - loss: 0.4002 - accuracy: 0.82 - ETA: 0s - loss: 0.3975 - accuracy: 0.82 - ETA: 0s - loss: 0.3987 - accuracy: 0.82 - ETA: 0s - loss: 0.3951 - accuracy: 0.82 - ETA: 0s - loss: 0.3981 - accuracy: 0.82 - ETA: 0s - loss: 0.3982 - accuracy: 0.82 - 1s 86us/step - loss: 0.3986 - accuracy: 0.8219\n",
      "Epoch 68/75\n",
      "8400/8400 [==============================] - ETA: 1s - loss: 0.5073 - accuracy: 0.50 - ETA: 0s - loss: 0.3564 - accuracy: 0.83 - ETA: 0s - loss: 0.3814 - accuracy: 0.81 - ETA: 0s - loss: 0.3881 - accuracy: 0.82 - ETA: 0s - loss: 0.3930 - accuracy: 0.81 - ETA: 0s - loss: 0.3969 - accuracy: 0.82 - ETA: 0s - loss: 0.3959 - accuracy: 0.82 - ETA: 0s - loss: 0.3908 - accuracy: 0.82 - ETA: 0s - loss: 0.3904 - accuracy: 0.82 - ETA: 0s - loss: 0.3954 - accuracy: 0.82 - ETA: 0s - loss: 0.3932 - accuracy: 0.82 - ETA: 0s - loss: 0.3963 - accuracy: 0.82 - ETA: 0s - loss: 0.3944 - accuracy: 0.82 - ETA: 0s - loss: 0.3972 - accuracy: 0.82 - ETA: 0s - loss: 0.3984 - accuracy: 0.82 - 1s 91us/step - loss: 0.3975 - accuracy: 0.8212\n",
      "Epoch 69/75\n",
      "8400/8400 [==============================] - ETA: 1s - loss: 0.2466 - accuracy: 0.90 - ETA: 0s - loss: 0.4145 - accuracy: 0.82 - ETA: 0s - loss: 0.3907 - accuracy: 0.83 - ETA: 0s - loss: 0.3962 - accuracy: 0.82 - ETA: 0s - loss: 0.3875 - accuracy: 0.82 - ETA: 0s - loss: 0.3893 - accuracy: 0.82 - ETA: 0s - loss: 0.3878 - accuracy: 0.82 - ETA: 0s - loss: 0.3874 - accuracy: 0.82 - ETA: 0s - loss: 0.3916 - accuracy: 0.82 - ETA: 0s - loss: 0.3927 - accuracy: 0.82 - ETA: 0s - loss: 0.3931 - accuracy: 0.82 - ETA: 0s - loss: 0.3935 - accuracy: 0.82 - ETA: 0s - loss: 0.3937 - accuracy: 0.82 - ETA: 0s - loss: 0.3929 - accuracy: 0.82 - ETA: 0s - loss: 0.3974 - accuracy: 0.82 - 1s 86us/step - loss: 0.3973 - accuracy: 0.8225\n",
      "Epoch 70/75\n",
      "8400/8400 [==============================] - ETA: 1s - loss: 0.2484 - accuracy: 1.00 - ETA: 0s - loss: 0.4369 - accuracy: 0.81 - ETA: 0s - loss: 0.4106 - accuracy: 0.82 - ETA: 0s - loss: 0.3968 - accuracy: 0.82 - ETA: 0s - loss: 0.4002 - accuracy: 0.82 - ETA: 0s - loss: 0.3994 - accuracy: 0.82 - ETA: 0s - loss: 0.3976 - accuracy: 0.82 - ETA: 0s - loss: 0.3939 - accuracy: 0.82 - ETA: 0s - loss: 0.3873 - accuracy: 0.83 - ETA: 0s - loss: 0.3893 - accuracy: 0.83 - ETA: 0s - loss: 0.3896 - accuracy: 0.82 - ETA: 0s - loss: 0.3920 - accuracy: 0.82 - ETA: 0s - loss: 0.3961 - accuracy: 0.82 - ETA: 0s - loss: 0.3963 - accuracy: 0.82 - ETA: 0s - loss: 0.3971 - accuracy: 0.82 - 1s 89us/step - loss: 0.3967 - accuracy: 0.8236\n",
      "Epoch 71/75\n",
      "8400/8400 [==============================] - ETA: 1s - loss: 0.4410 - accuracy: 0.80 - ETA: 0s - loss: 0.3757 - accuracy: 0.83 - ETA: 0s - loss: 0.3980 - accuracy: 0.81 - ETA: 0s - loss: 0.3934 - accuracy: 0.82 - ETA: 0s - loss: 0.3904 - accuracy: 0.82 - ETA: 0s - loss: 0.3904 - accuracy: 0.82 - ETA: 0s - loss: 0.3867 - accuracy: 0.82 - ETA: 0s - loss: 0.3938 - accuracy: 0.82 - ETA: 0s - loss: 0.3911 - accuracy: 0.82 - ETA: 0s - loss: 0.3921 - accuracy: 0.82 - ETA: 0s - loss: 0.3930 - accuracy: 0.82 - ETA: 0s - loss: 0.3933 - accuracy: 0.82 - ETA: 0s - loss: 0.3940 - accuracy: 0.82 - ETA: 0s - loss: 0.3944 - accuracy: 0.82 - 1s 82us/step - loss: 0.3961 - accuracy: 0.8232\n",
      "Epoch 72/75\n",
      "8400/8400 [==============================] - ETA: 0s - loss: 0.4501 - accuracy: 0.80 - ETA: 0s - loss: 0.4086 - accuracy: 0.83 - ETA: 0s - loss: 0.3940 - accuracy: 0.83 - ETA: 0s - loss: 0.4116 - accuracy: 0.82 - ETA: 0s - loss: 0.4078 - accuracy: 0.82 - ETA: 0s - loss: 0.4017 - accuracy: 0.82 - ETA: 0s - loss: 0.3996 - accuracy: 0.82 - ETA: 0s - loss: 0.3995 - accuracy: 0.82 - ETA: 0s - loss: 0.4007 - accuracy: 0.82 - ETA: 0s - loss: 0.3970 - accuracy: 0.82 - ETA: 0s - loss: 0.3958 - accuracy: 0.82 - ETA: 0s - loss: 0.3964 - accuracy: 0.82 - ETA: 0s - loss: 0.3966 - accuracy: 0.82 - ETA: 0s - loss: 0.3963 - accuracy: 0.82 - ETA: 0s - loss: 0.3973 - accuracy: 0.82 - 1s 88us/step - loss: 0.3962 - accuracy: 0.8233\n",
      "Epoch 73/75\n",
      "8400/8400 [==============================] - ETA: 1s - loss: 0.7053 - accuracy: 0.60 - ETA: 0s - loss: 0.3713 - accuracy: 0.83 - ETA: 0s - loss: 0.3855 - accuracy: 0.83 - ETA: 0s - loss: 0.3970 - accuracy: 0.83 - ETA: 0s - loss: 0.3942 - accuracy: 0.83 - ETA: 0s - loss: 0.3945 - accuracy: 0.83 - ETA: 0s - loss: 0.3934 - accuracy: 0.83 - ETA: 0s - loss: 0.3938 - accuracy: 0.83 - ETA: 0s - loss: 0.3928 - accuracy: 0.83 - ETA: 0s - loss: 0.3957 - accuracy: 0.82 - ETA: 0s - loss: 0.3969 - accuracy: 0.82 - ETA: 0s - loss: 0.3961 - accuracy: 0.82 - ETA: 0s - loss: 0.3991 - accuracy: 0.82 - ETA: 0s - loss: 0.4009 - accuracy: 0.82 - ETA: 0s - loss: 0.3976 - accuracy: 0.82 - 1s 91us/step - loss: 0.3958 - accuracy: 0.8258\n",
      "Epoch 74/75\n",
      "8400/8400 [==============================] - ETA: 1s - loss: 0.7003 - accuracy: 0.70 - ETA: 0s - loss: 0.4288 - accuracy: 0.79 - ETA: 0s - loss: 0.4038 - accuracy: 0.80 - ETA: 0s - loss: 0.4009 - accuracy: 0.80 - ETA: 0s - loss: 0.3905 - accuracy: 0.82 - ETA: 0s - loss: 0.3850 - accuracy: 0.82 - ETA: 0s - loss: 0.3859 - accuracy: 0.82 - ETA: 0s - loss: 0.3858 - accuracy: 0.82 - ETA: 0s - loss: 0.3848 - accuracy: 0.82 - ETA: 0s - loss: 0.3877 - accuracy: 0.82 - ETA: 0s - loss: 0.3916 - accuracy: 0.82 - ETA: 0s - loss: 0.3940 - accuracy: 0.82 - ETA: 0s - loss: 0.3936 - accuracy: 0.82 - ETA: 0s - loss: 0.3943 - accuracy: 0.82 - ETA: 0s - loss: 0.3936 - accuracy: 0.82 - 1s 88us/step - loss: 0.3941 - accuracy: 0.8244\n",
      "Epoch 75/75\n",
      "8400/8400 [==============================] - ETA: 2s - loss: 0.2861 - accuracy: 0.90 - ETA: 0s - loss: 0.3918 - accuracy: 0.82 - ETA: 0s - loss: 0.3704 - accuracy: 0.83 - ETA: 0s - loss: 0.3758 - accuracy: 0.83 - ETA: 0s - loss: 0.3830 - accuracy: 0.83 - ETA: 0s - loss: 0.3770 - accuracy: 0.83 - ETA: 0s - loss: 0.3824 - accuracy: 0.83 - ETA: 0s - loss: 0.3841 - accuracy: 0.82 - ETA: 0s - loss: 0.3849 - accuracy: 0.83 - ETA: 0s - loss: 0.3829 - accuracy: 0.83 - ETA: 0s - loss: 0.3799 - accuracy: 0.83 - ETA: 0s - loss: 0.3803 - accuracy: 0.83 - ETA: 0s - loss: 0.3866 - accuracy: 0.83 - ETA: 0s - loss: 0.3880 - accuracy: 0.82 - ETA: 0s - loss: 0.3916 - accuracy: 0.82 - ETA: 0s - loss: 0.3939 - accuracy: 0.82 - 1s 93us/step - loss: 0.3940 - accuracy: 0.8258\n"
     ]
    },
    {
     "data": {
      "text/plain": [
       "<keras.callbacks.callbacks.History at 0x19c1a57b710>"
      ]
     },
     "execution_count": 23,
     "metadata": {},
     "output_type": "execute_result"
    }
   ],
   "source": [
    "classifier = Sequential()\n",
    "#First Hidden Layer\n",
    "classifier.add(Dense(params[0]['num'], activation=params[0]['act'], kernel_initializer='random_normal', input_dim=(len(features)-1)))\n",
    "#Second  Hidden Layer\n",
    "classifier.add(Dense(params[1]['num'], activation=params[1]['act'], kernel_initializer='random_normal'))\n",
    "#Output Layer\n",
    "classifier.add(Dense(1, activation=params[2]['act'], kernel_initializer='random_normal'))\n",
    "\n",
    "classifier.compile(optimizer ='adam',loss='binary_crossentropy', metrics =['accuracy'])\n",
    "\n",
    "classifier.fit(X, Y, batch_size=params[2]['batch'], epochs=params[2]['epoch'])"
   ]
  },
  {
   "cell_type": "code",
   "execution_count": 20,
   "metadata": {},
   "outputs": [
    {
     "name": "stdout",
     "output_type": "stream",
     "text": [
      "[[1112  322]\n",
      " [ 382  704]]\n"
     ]
    },
    {
     "data": {
      "text/plain": [
       "0.7206349206349206"
      ]
     },
     "execution_count": 20,
     "metadata": {},
     "output_type": "execute_result"
    }
   ],
   "source": [
    "y_pred = classifier.predict(X_test)\n",
    "y_pred2 = (y_pred>0.5)\n",
    "\n",
    "cm = confusion_matrix(y_test, y_pred2)\n",
    "print(cm)\n",
    "acc = (cm[0][0] + cm[1][1])/sum(sum(cm))\n",
    "acc"
   ]
  },
  {
   "cell_type": "markdown",
   "metadata": {},
   "source": [
    "<div style=\"background:#fc0\">Запись результатов</div>"
   ]
  },
  {
   "cell_type": "code",
   "execution_count": 25,
   "metadata": {},
   "outputs": [],
   "source": [
    "# Keras\n",
    "test = sc.fit_transform(my_data_test.fillna(0))\n",
    "y_pred = classifier.predict(test)\n",
    "pd.DataFrame(data={'probability':list(y_pred)}, index=my_data_test.index).to_csv('../data/submission_keras.csv')"
   ]
  },
  {
   "cell_type": "code",
   "execution_count": null,
   "metadata": {},
   "outputs": [],
   "source": []
  }
 ],
 "metadata": {
  "kernelspec": {
   "display_name": "Python 3",
   "language": "python",
   "name": "python3"
  },
  "language_info": {
   "codemirror_mode": {
    "name": "ipython",
    "version": 3
   },
   "file_extension": ".py",
   "mimetype": "text/x-python",
   "name": "python",
   "nbconvert_exporter": "python",
   "pygments_lexer": "ipython3",
   "version": "3.8.3"
  }
 },
 "nbformat": 4,
 "nbformat_minor": 2
}
